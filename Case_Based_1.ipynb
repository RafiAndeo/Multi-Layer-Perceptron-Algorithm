{
  "nbformat": 4,
  "nbformat_minor": 0,
  "metadata": {
    "colab": {
      "provenance": [],
      "collapsed_sections": []
    },
    "kernelspec": {
      "name": "python3",
      "display_name": "Python 3"
    },
    "language_info": {
      "name": "python"
    }
  },
  "cells": [
    {
      "cell_type": "markdown",
      "source": [
        "### Muhammad Rafi Andeo Praja\n",
        "\n",
        "### 1301200278"
      ],
      "metadata": {
        "id": "4zMFjPydQQaL"
      }
    },
    {
      "cell_type": "markdown",
      "source": [
        "### Penggunaan Library:\n",
        "\n",
        "Pandas -> Melakukan import dataset\n",
        "\n",
        "Numpy -> Melakukan pengolahan dataset\n",
        "\n",
        "Matplotlib -> Melakukan pemodelan dataset berupa grafik\n",
        "\n",
        "Seaborn -> Melakukan pemodelan dataset dengan atribut lebih dari satu\n",
        "\n",
        "Sklearn -> Melakukan perhitungan prediksi dataset menggunakan algoritma machine learning"
      ],
      "metadata": {
        "id": "0LMlw-rFnLQv"
      }
    },
    {
      "cell_type": "code",
      "execution_count": 1,
      "metadata": {
        "id": "FNeco2AXO2i_"
      },
      "outputs": [],
      "source": [
        "import pandas as pd\n",
        "import numpy as np\n",
        "import seaborn as sns\n",
        "import matplotlib.pyplot as plt\n",
        "%matplotlib inline\n",
        "import sklearn.neural_network as ann\n",
        "import sklearn.model_selection as ms\n",
        "from sklearn.preprocessing import MinMaxScaler"
      ]
    },
    {
      "cell_type": "markdown",
      "source": [
        "### Menampilkan isi dataset 5 teratas dan 5 terbawah"
      ],
      "metadata": {
        "id": "ZudBLrSMoDZ6"
      }
    },
    {
      "cell_type": "code",
      "source": [
        "df = pd.read_csv('https://archive.ics.uci.edu/ml/machine-learning-databases/arrhythmia/arrhythmia.data', header=None)\n",
        "df.head()"
      ],
      "metadata": {
        "colab": {
          "base_uri": "https://localhost:8080/",
          "height": 235
        },
        "id": "akt6JajFTSOh",
        "outputId": "19014417-6740-4b7f-d744-023db83067f8"
      },
      "execution_count": 2,
      "outputs": [
        {
          "output_type": "execute_result",
          "data": {
            "text/plain": [
              "   0    1    2    3    4    5    6    7    8    9    ...  270   271  272  273  \\\n",
              "0   75    0  190   80   91  193  371  174  121  -16  ...  0.0   9.0 -0.9  0.0   \n",
              "1   56    1  165   64   81  174  401  149   39   25  ...  0.0   8.5  0.0  0.0   \n",
              "2   54    0  172   95  138  163  386  185  102   96  ...  0.0   9.5 -2.4  0.0   \n",
              "3   55    0  175   94  100  202  380  179  143   28  ...  0.0  12.2 -2.2  0.0   \n",
              "4   75    0  190   80   88  181  360  177  103  -16  ...  0.0  13.1 -3.6  0.0   \n",
              "\n",
              "   274  275  276   277   278  279  \n",
              "0  0.0  0.9  2.9  23.3  49.4    8  \n",
              "1  0.0  0.2  2.1  20.4  38.8    6  \n",
              "2  0.0  0.3  3.4  12.3  49.0   10  \n",
              "3  0.0  0.4  2.6  34.6  61.6    1  \n",
              "4  0.0 -0.1  3.9  25.4  62.8    7  \n",
              "\n",
              "[5 rows x 280 columns]"
            ],
            "text/html": [
              "\n",
              "  <div id=\"df-d1a83546-e5e6-476f-ba88-c2413820cf86\">\n",
              "    <div class=\"colab-df-container\">\n",
              "      <div>\n",
              "<style scoped>\n",
              "    .dataframe tbody tr th:only-of-type {\n",
              "        vertical-align: middle;\n",
              "    }\n",
              "\n",
              "    .dataframe tbody tr th {\n",
              "        vertical-align: top;\n",
              "    }\n",
              "\n",
              "    .dataframe thead th {\n",
              "        text-align: right;\n",
              "    }\n",
              "</style>\n",
              "<table border=\"1\" class=\"dataframe\">\n",
              "  <thead>\n",
              "    <tr style=\"text-align: right;\">\n",
              "      <th></th>\n",
              "      <th>0</th>\n",
              "      <th>1</th>\n",
              "      <th>2</th>\n",
              "      <th>3</th>\n",
              "      <th>4</th>\n",
              "      <th>5</th>\n",
              "      <th>6</th>\n",
              "      <th>7</th>\n",
              "      <th>8</th>\n",
              "      <th>9</th>\n",
              "      <th>...</th>\n",
              "      <th>270</th>\n",
              "      <th>271</th>\n",
              "      <th>272</th>\n",
              "      <th>273</th>\n",
              "      <th>274</th>\n",
              "      <th>275</th>\n",
              "      <th>276</th>\n",
              "      <th>277</th>\n",
              "      <th>278</th>\n",
              "      <th>279</th>\n",
              "    </tr>\n",
              "  </thead>\n",
              "  <tbody>\n",
              "    <tr>\n",
              "      <th>0</th>\n",
              "      <td>75</td>\n",
              "      <td>0</td>\n",
              "      <td>190</td>\n",
              "      <td>80</td>\n",
              "      <td>91</td>\n",
              "      <td>193</td>\n",
              "      <td>371</td>\n",
              "      <td>174</td>\n",
              "      <td>121</td>\n",
              "      <td>-16</td>\n",
              "      <td>...</td>\n",
              "      <td>0.0</td>\n",
              "      <td>9.0</td>\n",
              "      <td>-0.9</td>\n",
              "      <td>0.0</td>\n",
              "      <td>0.0</td>\n",
              "      <td>0.9</td>\n",
              "      <td>2.9</td>\n",
              "      <td>23.3</td>\n",
              "      <td>49.4</td>\n",
              "      <td>8</td>\n",
              "    </tr>\n",
              "    <tr>\n",
              "      <th>1</th>\n",
              "      <td>56</td>\n",
              "      <td>1</td>\n",
              "      <td>165</td>\n",
              "      <td>64</td>\n",
              "      <td>81</td>\n",
              "      <td>174</td>\n",
              "      <td>401</td>\n",
              "      <td>149</td>\n",
              "      <td>39</td>\n",
              "      <td>25</td>\n",
              "      <td>...</td>\n",
              "      <td>0.0</td>\n",
              "      <td>8.5</td>\n",
              "      <td>0.0</td>\n",
              "      <td>0.0</td>\n",
              "      <td>0.0</td>\n",
              "      <td>0.2</td>\n",
              "      <td>2.1</td>\n",
              "      <td>20.4</td>\n",
              "      <td>38.8</td>\n",
              "      <td>6</td>\n",
              "    </tr>\n",
              "    <tr>\n",
              "      <th>2</th>\n",
              "      <td>54</td>\n",
              "      <td>0</td>\n",
              "      <td>172</td>\n",
              "      <td>95</td>\n",
              "      <td>138</td>\n",
              "      <td>163</td>\n",
              "      <td>386</td>\n",
              "      <td>185</td>\n",
              "      <td>102</td>\n",
              "      <td>96</td>\n",
              "      <td>...</td>\n",
              "      <td>0.0</td>\n",
              "      <td>9.5</td>\n",
              "      <td>-2.4</td>\n",
              "      <td>0.0</td>\n",
              "      <td>0.0</td>\n",
              "      <td>0.3</td>\n",
              "      <td>3.4</td>\n",
              "      <td>12.3</td>\n",
              "      <td>49.0</td>\n",
              "      <td>10</td>\n",
              "    </tr>\n",
              "    <tr>\n",
              "      <th>3</th>\n",
              "      <td>55</td>\n",
              "      <td>0</td>\n",
              "      <td>175</td>\n",
              "      <td>94</td>\n",
              "      <td>100</td>\n",
              "      <td>202</td>\n",
              "      <td>380</td>\n",
              "      <td>179</td>\n",
              "      <td>143</td>\n",
              "      <td>28</td>\n",
              "      <td>...</td>\n",
              "      <td>0.0</td>\n",
              "      <td>12.2</td>\n",
              "      <td>-2.2</td>\n",
              "      <td>0.0</td>\n",
              "      <td>0.0</td>\n",
              "      <td>0.4</td>\n",
              "      <td>2.6</td>\n",
              "      <td>34.6</td>\n",
              "      <td>61.6</td>\n",
              "      <td>1</td>\n",
              "    </tr>\n",
              "    <tr>\n",
              "      <th>4</th>\n",
              "      <td>75</td>\n",
              "      <td>0</td>\n",
              "      <td>190</td>\n",
              "      <td>80</td>\n",
              "      <td>88</td>\n",
              "      <td>181</td>\n",
              "      <td>360</td>\n",
              "      <td>177</td>\n",
              "      <td>103</td>\n",
              "      <td>-16</td>\n",
              "      <td>...</td>\n",
              "      <td>0.0</td>\n",
              "      <td>13.1</td>\n",
              "      <td>-3.6</td>\n",
              "      <td>0.0</td>\n",
              "      <td>0.0</td>\n",
              "      <td>-0.1</td>\n",
              "      <td>3.9</td>\n",
              "      <td>25.4</td>\n",
              "      <td>62.8</td>\n",
              "      <td>7</td>\n",
              "    </tr>\n",
              "  </tbody>\n",
              "</table>\n",
              "<p>5 rows × 280 columns</p>\n",
              "</div>\n",
              "      <button class=\"colab-df-convert\" onclick=\"convertToInteractive('df-d1a83546-e5e6-476f-ba88-c2413820cf86')\"\n",
              "              title=\"Convert this dataframe to an interactive table.\"\n",
              "              style=\"display:none;\">\n",
              "        \n",
              "  <svg xmlns=\"http://www.w3.org/2000/svg\" height=\"24px\"viewBox=\"0 0 24 24\"\n",
              "       width=\"24px\">\n",
              "    <path d=\"M0 0h24v24H0V0z\" fill=\"none\"/>\n",
              "    <path d=\"M18.56 5.44l.94 2.06.94-2.06 2.06-.94-2.06-.94-.94-2.06-.94 2.06-2.06.94zm-11 1L8.5 8.5l.94-2.06 2.06-.94-2.06-.94L8.5 2.5l-.94 2.06-2.06.94zm10 10l.94 2.06.94-2.06 2.06-.94-2.06-.94-.94-2.06-.94 2.06-2.06.94z\"/><path d=\"M17.41 7.96l-1.37-1.37c-.4-.4-.92-.59-1.43-.59-.52 0-1.04.2-1.43.59L10.3 9.45l-7.72 7.72c-.78.78-.78 2.05 0 2.83L4 21.41c.39.39.9.59 1.41.59.51 0 1.02-.2 1.41-.59l7.78-7.78 2.81-2.81c.8-.78.8-2.07 0-2.86zM5.41 20L4 18.59l7.72-7.72 1.47 1.35L5.41 20z\"/>\n",
              "  </svg>\n",
              "      </button>\n",
              "      \n",
              "  <style>\n",
              "    .colab-df-container {\n",
              "      display:flex;\n",
              "      flex-wrap:wrap;\n",
              "      gap: 12px;\n",
              "    }\n",
              "\n",
              "    .colab-df-convert {\n",
              "      background-color: #E8F0FE;\n",
              "      border: none;\n",
              "      border-radius: 50%;\n",
              "      cursor: pointer;\n",
              "      display: none;\n",
              "      fill: #1967D2;\n",
              "      height: 32px;\n",
              "      padding: 0 0 0 0;\n",
              "      width: 32px;\n",
              "    }\n",
              "\n",
              "    .colab-df-convert:hover {\n",
              "      background-color: #E2EBFA;\n",
              "      box-shadow: 0px 1px 2px rgba(60, 64, 67, 0.3), 0px 1px 3px 1px rgba(60, 64, 67, 0.15);\n",
              "      fill: #174EA6;\n",
              "    }\n",
              "\n",
              "    [theme=dark] .colab-df-convert {\n",
              "      background-color: #3B4455;\n",
              "      fill: #D2E3FC;\n",
              "    }\n",
              "\n",
              "    [theme=dark] .colab-df-convert:hover {\n",
              "      background-color: #434B5C;\n",
              "      box-shadow: 0px 1px 3px 1px rgba(0, 0, 0, 0.15);\n",
              "      filter: drop-shadow(0px 1px 2px rgba(0, 0, 0, 0.3));\n",
              "      fill: #FFFFFF;\n",
              "    }\n",
              "  </style>\n",
              "\n",
              "      <script>\n",
              "        const buttonEl =\n",
              "          document.querySelector('#df-d1a83546-e5e6-476f-ba88-c2413820cf86 button.colab-df-convert');\n",
              "        buttonEl.style.display =\n",
              "          google.colab.kernel.accessAllowed ? 'block' : 'none';\n",
              "\n",
              "        async function convertToInteractive(key) {\n",
              "          const element = document.querySelector('#df-d1a83546-e5e6-476f-ba88-c2413820cf86');\n",
              "          const dataTable =\n",
              "            await google.colab.kernel.invokeFunction('convertToInteractive',\n",
              "                                                     [key], {});\n",
              "          if (!dataTable) return;\n",
              "\n",
              "          const docLinkHtml = 'Like what you see? Visit the ' +\n",
              "            '<a target=\"_blank\" href=https://colab.research.google.com/notebooks/data_table.ipynb>data table notebook</a>'\n",
              "            + ' to learn more about interactive tables.';\n",
              "          element.innerHTML = '';\n",
              "          dataTable['output_type'] = 'display_data';\n",
              "          await google.colab.output.renderOutput(dataTable, element);\n",
              "          const docLink = document.createElement('div');\n",
              "          docLink.innerHTML = docLinkHtml;\n",
              "          element.appendChild(docLink);\n",
              "        }\n",
              "      </script>\n",
              "    </div>\n",
              "  </div>\n",
              "  "
            ]
          },
          "metadata": {},
          "execution_count": 2
        }
      ]
    },
    {
      "cell_type": "code",
      "source": [
        "df.tail()"
      ],
      "metadata": {
        "colab": {
          "base_uri": "https://localhost:8080/",
          "height": 235
        },
        "id": "J3AqCi5-T_a-",
        "outputId": "2d5c7542-bcf7-4b24-bb43-d06cb3b8f9a9"
      },
      "execution_count": 3,
      "outputs": [
        {
          "output_type": "execute_result",
          "data": {
            "text/plain": [
              "     0    1    2    3    4    5    6    7    8    9    ...  270   271   272  \\\n",
              "447   53    1  160   70   80  199  382  154  117  -37  ...  0.0   4.3  -5.0   \n",
              "448   37    0  190   85  100  137  361  201   73   86  ...  0.0  15.6  -1.6   \n",
              "449   36    0  166   68  108  176  365  194  116  -85  ...  0.0  16.3 -28.6   \n",
              "450   32    1  155   55   93  106  386  218   63   54  ... -0.4  12.0  -0.7   \n",
              "451   78    1  160   70   79  127  364  138   78   28  ...  0.0  10.4  -1.8   \n",
              "\n",
              "     273  274  275  276   277   278  279  \n",
              "447  0.0  0.0  0.7  0.6  -4.4  -0.5    1  \n",
              "448  0.0  0.0  0.4  2.4  38.0  62.4   10  \n",
              "449  0.0  0.0  1.5  1.0 -44.2 -33.2    2  \n",
              "450  0.0  0.0  0.5  2.4  25.0  46.6    1  \n",
              "451  0.0  0.0  0.5  1.6  21.3  32.8    1  \n",
              "\n",
              "[5 rows x 280 columns]"
            ],
            "text/html": [
              "\n",
              "  <div id=\"df-ef019232-e819-4df0-a48c-bcb28cbc6310\">\n",
              "    <div class=\"colab-df-container\">\n",
              "      <div>\n",
              "<style scoped>\n",
              "    .dataframe tbody tr th:only-of-type {\n",
              "        vertical-align: middle;\n",
              "    }\n",
              "\n",
              "    .dataframe tbody tr th {\n",
              "        vertical-align: top;\n",
              "    }\n",
              "\n",
              "    .dataframe thead th {\n",
              "        text-align: right;\n",
              "    }\n",
              "</style>\n",
              "<table border=\"1\" class=\"dataframe\">\n",
              "  <thead>\n",
              "    <tr style=\"text-align: right;\">\n",
              "      <th></th>\n",
              "      <th>0</th>\n",
              "      <th>1</th>\n",
              "      <th>2</th>\n",
              "      <th>3</th>\n",
              "      <th>4</th>\n",
              "      <th>5</th>\n",
              "      <th>6</th>\n",
              "      <th>7</th>\n",
              "      <th>8</th>\n",
              "      <th>9</th>\n",
              "      <th>...</th>\n",
              "      <th>270</th>\n",
              "      <th>271</th>\n",
              "      <th>272</th>\n",
              "      <th>273</th>\n",
              "      <th>274</th>\n",
              "      <th>275</th>\n",
              "      <th>276</th>\n",
              "      <th>277</th>\n",
              "      <th>278</th>\n",
              "      <th>279</th>\n",
              "    </tr>\n",
              "  </thead>\n",
              "  <tbody>\n",
              "    <tr>\n",
              "      <th>447</th>\n",
              "      <td>53</td>\n",
              "      <td>1</td>\n",
              "      <td>160</td>\n",
              "      <td>70</td>\n",
              "      <td>80</td>\n",
              "      <td>199</td>\n",
              "      <td>382</td>\n",
              "      <td>154</td>\n",
              "      <td>117</td>\n",
              "      <td>-37</td>\n",
              "      <td>...</td>\n",
              "      <td>0.0</td>\n",
              "      <td>4.3</td>\n",
              "      <td>-5.0</td>\n",
              "      <td>0.0</td>\n",
              "      <td>0.0</td>\n",
              "      <td>0.7</td>\n",
              "      <td>0.6</td>\n",
              "      <td>-4.4</td>\n",
              "      <td>-0.5</td>\n",
              "      <td>1</td>\n",
              "    </tr>\n",
              "    <tr>\n",
              "      <th>448</th>\n",
              "      <td>37</td>\n",
              "      <td>0</td>\n",
              "      <td>190</td>\n",
              "      <td>85</td>\n",
              "      <td>100</td>\n",
              "      <td>137</td>\n",
              "      <td>361</td>\n",
              "      <td>201</td>\n",
              "      <td>73</td>\n",
              "      <td>86</td>\n",
              "      <td>...</td>\n",
              "      <td>0.0</td>\n",
              "      <td>15.6</td>\n",
              "      <td>-1.6</td>\n",
              "      <td>0.0</td>\n",
              "      <td>0.0</td>\n",
              "      <td>0.4</td>\n",
              "      <td>2.4</td>\n",
              "      <td>38.0</td>\n",
              "      <td>62.4</td>\n",
              "      <td>10</td>\n",
              "    </tr>\n",
              "    <tr>\n",
              "      <th>449</th>\n",
              "      <td>36</td>\n",
              "      <td>0</td>\n",
              "      <td>166</td>\n",
              "      <td>68</td>\n",
              "      <td>108</td>\n",
              "      <td>176</td>\n",
              "      <td>365</td>\n",
              "      <td>194</td>\n",
              "      <td>116</td>\n",
              "      <td>-85</td>\n",
              "      <td>...</td>\n",
              "      <td>0.0</td>\n",
              "      <td>16.3</td>\n",
              "      <td>-28.6</td>\n",
              "      <td>0.0</td>\n",
              "      <td>0.0</td>\n",
              "      <td>1.5</td>\n",
              "      <td>1.0</td>\n",
              "      <td>-44.2</td>\n",
              "      <td>-33.2</td>\n",
              "      <td>2</td>\n",
              "    </tr>\n",
              "    <tr>\n",
              "      <th>450</th>\n",
              "      <td>32</td>\n",
              "      <td>1</td>\n",
              "      <td>155</td>\n",
              "      <td>55</td>\n",
              "      <td>93</td>\n",
              "      <td>106</td>\n",
              "      <td>386</td>\n",
              "      <td>218</td>\n",
              "      <td>63</td>\n",
              "      <td>54</td>\n",
              "      <td>...</td>\n",
              "      <td>-0.4</td>\n",
              "      <td>12.0</td>\n",
              "      <td>-0.7</td>\n",
              "      <td>0.0</td>\n",
              "      <td>0.0</td>\n",
              "      <td>0.5</td>\n",
              "      <td>2.4</td>\n",
              "      <td>25.0</td>\n",
              "      <td>46.6</td>\n",
              "      <td>1</td>\n",
              "    </tr>\n",
              "    <tr>\n",
              "      <th>451</th>\n",
              "      <td>78</td>\n",
              "      <td>1</td>\n",
              "      <td>160</td>\n",
              "      <td>70</td>\n",
              "      <td>79</td>\n",
              "      <td>127</td>\n",
              "      <td>364</td>\n",
              "      <td>138</td>\n",
              "      <td>78</td>\n",
              "      <td>28</td>\n",
              "      <td>...</td>\n",
              "      <td>0.0</td>\n",
              "      <td>10.4</td>\n",
              "      <td>-1.8</td>\n",
              "      <td>0.0</td>\n",
              "      <td>0.0</td>\n",
              "      <td>0.5</td>\n",
              "      <td>1.6</td>\n",
              "      <td>21.3</td>\n",
              "      <td>32.8</td>\n",
              "      <td>1</td>\n",
              "    </tr>\n",
              "  </tbody>\n",
              "</table>\n",
              "<p>5 rows × 280 columns</p>\n",
              "</div>\n",
              "      <button class=\"colab-df-convert\" onclick=\"convertToInteractive('df-ef019232-e819-4df0-a48c-bcb28cbc6310')\"\n",
              "              title=\"Convert this dataframe to an interactive table.\"\n",
              "              style=\"display:none;\">\n",
              "        \n",
              "  <svg xmlns=\"http://www.w3.org/2000/svg\" height=\"24px\"viewBox=\"0 0 24 24\"\n",
              "       width=\"24px\">\n",
              "    <path d=\"M0 0h24v24H0V0z\" fill=\"none\"/>\n",
              "    <path d=\"M18.56 5.44l.94 2.06.94-2.06 2.06-.94-2.06-.94-.94-2.06-.94 2.06-2.06.94zm-11 1L8.5 8.5l.94-2.06 2.06-.94-2.06-.94L8.5 2.5l-.94 2.06-2.06.94zm10 10l.94 2.06.94-2.06 2.06-.94-2.06-.94-.94-2.06-.94 2.06-2.06.94z\"/><path d=\"M17.41 7.96l-1.37-1.37c-.4-.4-.92-.59-1.43-.59-.52 0-1.04.2-1.43.59L10.3 9.45l-7.72 7.72c-.78.78-.78 2.05 0 2.83L4 21.41c.39.39.9.59 1.41.59.51 0 1.02-.2 1.41-.59l7.78-7.78 2.81-2.81c.8-.78.8-2.07 0-2.86zM5.41 20L4 18.59l7.72-7.72 1.47 1.35L5.41 20z\"/>\n",
              "  </svg>\n",
              "      </button>\n",
              "      \n",
              "  <style>\n",
              "    .colab-df-container {\n",
              "      display:flex;\n",
              "      flex-wrap:wrap;\n",
              "      gap: 12px;\n",
              "    }\n",
              "\n",
              "    .colab-df-convert {\n",
              "      background-color: #E8F0FE;\n",
              "      border: none;\n",
              "      border-radius: 50%;\n",
              "      cursor: pointer;\n",
              "      display: none;\n",
              "      fill: #1967D2;\n",
              "      height: 32px;\n",
              "      padding: 0 0 0 0;\n",
              "      width: 32px;\n",
              "    }\n",
              "\n",
              "    .colab-df-convert:hover {\n",
              "      background-color: #E2EBFA;\n",
              "      box-shadow: 0px 1px 2px rgba(60, 64, 67, 0.3), 0px 1px 3px 1px rgba(60, 64, 67, 0.15);\n",
              "      fill: #174EA6;\n",
              "    }\n",
              "\n",
              "    [theme=dark] .colab-df-convert {\n",
              "      background-color: #3B4455;\n",
              "      fill: #D2E3FC;\n",
              "    }\n",
              "\n",
              "    [theme=dark] .colab-df-convert:hover {\n",
              "      background-color: #434B5C;\n",
              "      box-shadow: 0px 1px 3px 1px rgba(0, 0, 0, 0.15);\n",
              "      filter: drop-shadow(0px 1px 2px rgba(0, 0, 0, 0.3));\n",
              "      fill: #FFFFFF;\n",
              "    }\n",
              "  </style>\n",
              "\n",
              "      <script>\n",
              "        const buttonEl =\n",
              "          document.querySelector('#df-ef019232-e819-4df0-a48c-bcb28cbc6310 button.colab-df-convert');\n",
              "        buttonEl.style.display =\n",
              "          google.colab.kernel.accessAllowed ? 'block' : 'none';\n",
              "\n",
              "        async function convertToInteractive(key) {\n",
              "          const element = document.querySelector('#df-ef019232-e819-4df0-a48c-bcb28cbc6310');\n",
              "          const dataTable =\n",
              "            await google.colab.kernel.invokeFunction('convertToInteractive',\n",
              "                                                     [key], {});\n",
              "          if (!dataTable) return;\n",
              "\n",
              "          const docLinkHtml = 'Like what you see? Visit the ' +\n",
              "            '<a target=\"_blank\" href=https://colab.research.google.com/notebooks/data_table.ipynb>data table notebook</a>'\n",
              "            + ' to learn more about interactive tables.';\n",
              "          element.innerHTML = '';\n",
              "          dataTable['output_type'] = 'display_data';\n",
              "          await google.colab.output.renderOutput(dataTable, element);\n",
              "          const docLink = document.createElement('div');\n",
              "          docLink.innerHTML = docLinkHtml;\n",
              "          element.appendChild(docLink);\n",
              "        }\n",
              "      </script>\n",
              "    </div>\n",
              "  </div>\n",
              "  "
            ]
          },
          "metadata": {},
          "execution_count": 3
        }
      ]
    },
    {
      "cell_type": "markdown",
      "source": [
        "### Menampilkan jumlah baris dan jumlah features dataset"
      ],
      "metadata": {
        "id": "R3fOwwAOoVZ7"
      }
    },
    {
      "cell_type": "code",
      "source": [
        "df.shape"
      ],
      "metadata": {
        "colab": {
          "base_uri": "https://localhost:8080/"
        },
        "id": "iTfObgdGUEi1",
        "outputId": "7c6ab5e1-4654-49ac-f67e-03795baae5f2"
      },
      "execution_count": 4,
      "outputs": [
        {
          "output_type": "execute_result",
          "data": {
            "text/plain": [
              "(452, 280)"
            ]
          },
          "metadata": {},
          "execution_count": 4
        }
      ]
    },
    {
      "cell_type": "markdown",
      "source": [
        "### Menampilkan jumlah missing value dataset"
      ],
      "metadata": {
        "id": "kpDiadbSaB89"
      }
    },
    {
      "cell_type": "code",
      "source": [
        "nanValue = 0\n",
        "for i in range(0, 452):\n",
        "  for j in range(0, 280):\n",
        "    if (df.iloc[i, j] == \"?\"):\n",
        "      nanValue += 1\n",
        "print(\"Missing value yang terdapat pada dataset tersebut adalah:\", nanValue)\n",
        "df = df.replace(\"?\", np.NaN)"
      ],
      "metadata": {
        "colab": {
          "base_uri": "https://localhost:8080/"
        },
        "id": "N_pLKg8RUIrh",
        "outputId": "cfd6cdc2-8104-4be6-8ecc-8e15237de38e"
      },
      "execution_count": 5,
      "outputs": [
        {
          "output_type": "stream",
          "name": "stdout",
          "text": [
            "Missing value yang terdapat pada dataset tersebut adalah: 408\n"
          ]
        }
      ]
    },
    {
      "cell_type": "code",
      "source": [
        "pd.isnull(df).sum().plot()\n",
        "plt.xlabel('Features')\n",
        "plt.ylabel('Count of ?')"
      ],
      "metadata": {
        "colab": {
          "base_uri": "https://localhost:8080/",
          "height": 296
        },
        "id": "Ay7CobHdUc95",
        "outputId": "41be01ca-b1c0-455b-eb6d-d81134fe18e2"
      },
      "execution_count": 6,
      "outputs": [
        {
          "output_type": "execute_result",
          "data": {
            "text/plain": [
              "Text(0, 0.5, 'Count of ?')"
            ]
          },
          "metadata": {},
          "execution_count": 6
        },
        {
          "output_type": "display_data",
          "data": {
            "text/plain": [
              "<Figure size 432x288 with 1 Axes>"
            ],
            "image/png": "[encoded data removed]"
          },
          "metadata": {
            "needs_background": "light"
          }
        }
      ]
    },
    {
      "cell_type": "code",
      "source": [
        "pd.isnull(df).sum()[5:25].plot(kind='bar')\n",
        "plt.xlabel('Features')\n",
        "plt.ylabel('Count of ?')"
      ],
      "metadata": {
        "colab": {
          "base_uri": "https://localhost:8080/",
          "height": 299
        },
        "id": "PeZRv1TBUj9o",
        "outputId": "76e965c7-b0af-4909-c72c-053f48b0906c"
      },
      "execution_count": 7,
      "outputs": [
        {
          "output_type": "execute_result",
          "data": {
            "text/plain": [
              "Text(0, 0.5, 'Count of ?')"
            ]
          },
          "metadata": {},
          "execution_count": 7
        },
        {
          "output_type": "display_data",
          "data": {
            "text/plain": [
              "<Figure size 432x288 with 1 Axes>"
            ],
            "image/png": "[encoded data removed]"
          },
          "metadata": {
            "needs_background": "light"
          }
        }
      ]
    },
    {
      "cell_type": "code",
      "source": [
        "df.drop(columns = 13, inplace=True)"
      ],
      "metadata": {
        "id": "IoJr3FYnUlj7"
      },
      "execution_count": 8,
      "outputs": []
    },
    {
      "cell_type": "markdown",
      "source": [
        "### Mengubah missing value menjadi nilai modus"
      ],
      "metadata": {
        "id": "33jtcWeAauhm"
      }
    },
    {
      "cell_type": "code",
      "source": [
        "df[10].replace([np.nan], df[10].mode()[0], inplace=True)\n",
        "df[11].replace([np.nan], df[11].mode()[0], inplace=True)\n",
        "df[12].replace([np.nan], df[12].mode()[0], inplace=True)\n",
        "df[14].replace([np.nan], df[14].mode()[0], inplace=True)"
      ],
      "metadata": {
        "id": "2aTkIGLRUs8w"
      },
      "execution_count": 9,
      "outputs": []
    },
    {
      "cell_type": "code",
      "source": [
        "nanValue = 0\n",
        "for i in range(0, 452):\n",
        "  for j in range(0, 279):\n",
        "    if (df.iloc[i, j] == np.nan):\n",
        "      nanValue += 1\n",
        "print(\"Missing value yang terdapat pada dataset tersebut adalah:\", nanValue)"
      ],
      "metadata": {
        "colab": {
          "base_uri": "https://localhost:8080/"
        },
        "id": "IPU-drCkU93k",
        "outputId": "a2a67444-8047-4769-8c00-c823d4e8f2ce"
      },
      "execution_count": 10,
      "outputs": [
        {
          "output_type": "stream",
          "name": "stdout",
          "text": [
            "Missing value yang terdapat pada dataset tersebut adalah: 0\n"
          ]
        }
      ]
    },
    {
      "cell_type": "markdown",
      "source": [
        "### Menambahkan attribute kedalam dataset"
      ],
      "metadata": {
        "id": "ENVnrPCTaRyx"
      }
    },
    {
      "cell_type": "code",
      "source": [
        "x_columns=[\"Age\",\"Sex\",\"Height\",\"Weight\",\"QRS_Dur\",\n",
        "\"P-R_Int\",\"Q-T_Int\",\"T_Int\",\"P_Int\",\"QRS\",\"T\",\"P\",\"J\",\"Heart_Rate\",\n",
        "\"Q_Wave\",\"R_Wave\",\"S_Wave\",\"R'_Wave\",\"S'_Wave\",\"Int_Def\",\"Rag_R_Nom\",\n",
        "\"Diph_R_Nom\",\"Rag_P_Nom\",\"Diph_P_Nom\",\"Rag_T_Nom\",\"Diph_T_Nom\", \n",
        "\"DII00\", \"DII01\",\"DII02\", \"DII03\", \"DII04\",\"DII05\",\"DII06\",\"DII07\",\"DII08\",\"DII09\",\"DII10\",\"DII11\",\n",
        "\"DIII00\",\"DIII01\",\"DIII02\", \"DIII03\", \"DIII04\",\"DIII05\",\"DIII06\",\"DIII07\",\"DIII08\",\"DIII09\",\"DIII10\",\"DIII11\",\n",
        "\"AVR00\",\"AVR01\",\"AVR02\",\"AVR03\",\"AVR04\",\"AVR05\",\"AVR06\",\"AVR07\",\"AVR08\",\"AVR09\",\"AVR10\",\"AVR11\",\n",
        "\"AVL00\",\"AVL01\",\"AVL02\",\"AVL03\",\"AVL04\",\"AVL05\",\"AVL06\",\"AVL07\",\"AVL08\",\"AVL09\",\"AVL10\",\"AVL11\",\n",
        "\"AVF00\",\"AVF01\",\"AVF02\",\"AVF03\",\"AVF04\",\"AVF05\",\"AVF06\",\"AVF07\",\"AVF08\",\"AVF09\",\"AVF10\",\"AVF11\",\n",
        "\"V100\",\"V101\",\"V102\",\"V103\",\"V104\",\"V105\",\"V106\",\"V107\",\"V108\",\"V109\",\"V110\",\"V111\",\n",
        "\"V200\",\"V201\",\"V202\",\"V203\",\"V204\",\"V205\",\"V206\",\"V207\",\"V208\",\"V209\",\"V210\",\"V211\",\n",
        "\"V300\",\"V301\",\"V302\",\"V303\",\"V304\",\"V305\",\"V306\",\"V307\",\"V308\",\"V309\",\"V310\",\"V311\",\n",
        "\"V400\",\"V401\",\"V402\",\"V403\",\"V404\",\"V405\",\"V406\",\"V407\",\"V408\",\"V409\",\"V410\",\"V411\",\n",
        "\"V500\",\"V501\",\"V502\",\"V503\",\"V504\",\"V505\",\"V506\",\"V507\",\"V508\",\"V509\",\"V510\",\"V511\",\n",
        "\"V600\",\"V601\",\"V602\",\"V603\",\"V604\",\"V605\",\"V606\",\"V607\",\"V608\",\"V609\",\"V610\",\"V611\",\n",
        "\"JJ_Wave\",\"Amp_Q_Wave\",\"Amp_R_Wave\",\"Amp_S_Wave\",\"R_Prime_Wave\",\"S_Prime_Wave\",\"P_Wave\",\"T_Wave\",\n",
        "\"QRSA\",\"QRSTA\",\"DII170\",\"DII171\",\"DII172\",\"DII173\",\"DII174\",\"DII175\",\"DII176\",\"DII177\",\"DII178\",\"DII179\",\n",
        "\"DIII180\",\"DIII181\",\"DIII182\",\"DIII183\",\"DIII184\",\"DIII185\",\"DIII186\",\"DIII187\",\"DIII188\",\"DIII189\",\n",
        "\"AVR190\",\"AVR191\",\"AVR192\",\"AVR193\",\"AVR194\",\"AVR195\",\"AVR196\",\"AVR197\",\"AVR198\",\"AVR199\",\n",
        "\"AVL200\",\"AVL201\",\"AVL202\",\"AVL203\",\"AVL204\",\"AVL205\",\"AVL206\",\"AVL207\",\"AVL208\",\"AVL209\",\n",
        "\"AVF210\",\"AVF211\",\"AVF212\",\"AVF213\",\"AVF214\",\"AVF215\",\"AVF216\",\"AVF217\",\"AVF218\",\"AVF219\",\n",
        "\"V1220\",\"V1221\",\"V1222\",\"V1223\",\"V1224\",\"V1225\",\"V1226\",\"V1227\",\"V1228\",\"V1229\",\n",
        "\"V2230\",\"V2231\",\"V2232\",\"V2233\",\"V2234\",\"V2235\",\"V2236\",\"V2237\",\"V2238\",\"V2239\",\n",
        "\"V3240\",\"V3241\",\"V3242\",\"V3243\",\"V3244\",\"V3245\",\"V3246\",\"V3247\",\"V3248\",\"V3249\",\n",
        "\"V4250\",\"V4251\",\"V4252\",\"V4253\",\"V4254\",\"V4255\",\"V4256\",\"V4257\",\"V4258\",\"V4259\",\n",
        "\"V5260\",\"V5261\",\"V5262\",\"V5263\",\"V5264\",\"V5265\",\"V5266\",\"V5267\",\"V5268\",\"V5269\",\n",
        "\"V6270\",\"V6271\",\"V6272\",\"V6273\",\"V6274\",\"V6275\",\"V6276\",\"V6277\",\"V6278\",\"V6279\"]"
      ],
      "metadata": {
        "id": "9O-1ILpGVVZ5"
      },
      "execution_count": 11,
      "outputs": []
    },
    {
      "cell_type": "markdown",
      "source": [
        "### Hasil dataset yang sudah lengkap dengan nama atribute\n",
        "\n",
        "Membuat variabel baru x dan y yang akan digunakan di dalam algoritma neural network"
      ],
      "metadata": {
        "id": "-W4IyOfta2tJ"
      }
    },
    {
      "cell_type": "code",
      "source": [
        "data = pd.DataFrame(df)\n",
        "x = data.drop(columns = 278)\n",
        "x.columns = x_columns\n",
        "x.head()"
      ],
      "metadata": {
        "colab": {
          "base_uri": "https://localhost:8080/",
          "height": 235
        },
        "id": "sY-WACVEVb5h",
        "outputId": "ea4a76db-1dae-486a-8a93-db2e0b57a132"
      },
      "execution_count": 12,
      "outputs": [
        {
          "output_type": "execute_result",
          "data": {
            "text/plain": [
              "   Age  Sex  Height  Weight  QRS_Dur  P-R_Int  Q-T_Int  T_Int  P_Int  QRS  \\\n",
              "0   75    0     190      80       91      193      371    174    121  -16   \n",
              "1   56    1     165      64       81      174      401    149     39   25   \n",
              "2   54    0     172      95      138      163      386    185    102   96   \n",
              "3   55    0     175      94      100      202      380    179    143   28   \n",
              "4   75    0     190      80       88      181      360    177    103  -16   \n",
              "\n",
              "   ... V6270 V6271 V6272 V6273  V6274  V6275  V6276  V6277  V6278  V6279  \n",
              "0  ...  -0.3   0.0   9.0  -0.9    0.0    0.0    0.9    2.9   23.3      8  \n",
              "1  ...  -0.5   0.0   8.5   0.0    0.0    0.0    0.2    2.1   20.4      6  \n",
              "2  ...   0.9   0.0   9.5  -2.4    0.0    0.0    0.3    3.4   12.3     10  \n",
              "3  ...   0.1   0.0  12.2  -2.2    0.0    0.0    0.4    2.6   34.6      1  \n",
              "4  ...  -0.4   0.0  13.1  -3.6    0.0    0.0   -0.1    3.9   25.4      7  \n",
              "\n",
              "[5 rows x 278 columns]"
            ],
            "text/html": [
              "\n",
              "  <div id=\"df-47aa2dad-b450-44c7-af4a-d35befd949eb\">\n",
              "    <div class=\"colab-df-container\">\n",
              "      <div>\n",
              "<style scoped>\n",
              "    .dataframe tbody tr th:only-of-type {\n",
              "        vertical-align: middle;\n",
              "    }\n",
              "\n",
              "    .dataframe tbody tr th {\n",
              "        vertical-align: top;\n",
              "    }\n",
              "\n",
              "    .dataframe thead th {\n",
              "        text-align: right;\n",
              "    }\n",
              "</style>\n",
              "<table border=\"1\" class=\"dataframe\">\n",
              "  <thead>\n",
              "    <tr style=\"text-align: right;\">\n",
              "      <th></th>\n",
              "      <th>Age</th>\n",
              "      <th>Sex</th>\n",
              "      <th>Height</th>\n",
              "      <th>Weight</th>\n",
              "      <th>QRS_Dur</th>\n",
              "      <th>P-R_Int</th>\n",
              "      <th>Q-T_Int</th>\n",
              "      <th>T_Int</th>\n",
              "      <th>P_Int</th>\n",
              "      <th>QRS</th>\n",
              "      <th>...</th>\n",
              "      <th>V6270</th>\n",
              "      <th>V6271</th>\n",
              "      <th>V6272</th>\n",
              "      <th>V6273</th>\n",
              "      <th>V6274</th>\n",
              "      <th>V6275</th>\n",
              "      <th>V6276</th>\n",
              "      <th>V6277</th>\n",
              "      <th>V6278</th>\n",
              "      <th>V6279</th>\n",
              "    </tr>\n",
              "  </thead>\n",
              "  <tbody>\n",
              "    <tr>\n",
              "      <th>0</th>\n",
              "      <td>75</td>\n",
              "      <td>0</td>\n",
              "      <td>190</td>\n",
              "      <td>80</td>\n",
              "      <td>91</td>\n",
              "      <td>193</td>\n",
              "      <td>371</td>\n",
              "      <td>174</td>\n",
              "      <td>121</td>\n",
              "      <td>-16</td>\n",
              "      <td>...</td>\n",
              "      <td>-0.3</td>\n",
              "      <td>0.0</td>\n",
              "      <td>9.0</td>\n",
              "      <td>-0.9</td>\n",
              "      <td>0.0</td>\n",
              "      <td>0.0</td>\n",
              "      <td>0.9</td>\n",
              "      <td>2.9</td>\n",
              "      <td>23.3</td>\n",
              "      <td>8</td>\n",
              "    </tr>\n",
              "    <tr>\n",
              "      <th>1</th>\n",
              "      <td>56</td>\n",
              "      <td>1</td>\n",
              "      <td>165</td>\n",
              "      <td>64</td>\n",
              "      <td>81</td>\n",
              "      <td>174</td>\n",
              "      <td>401</td>\n",
              "      <td>149</td>\n",
              "      <td>39</td>\n",
              "      <td>25</td>\n",
              "      <td>...</td>\n",
              "      <td>-0.5</td>\n",
              "      <td>0.0</td>\n",
              "      <td>8.5</td>\n",
              "      <td>0.0</td>\n",
              "      <td>0.0</td>\n",
              "      <td>0.0</td>\n",
              "      <td>0.2</td>\n",
              "      <td>2.1</td>\n",
              "      <td>20.4</td>\n",
              "      <td>6</td>\n",
              "    </tr>\n",
              "    <tr>\n",
              "      <th>2</th>\n",
              "      <td>54</td>\n",
              "      <td>0</td>\n",
              "      <td>172</td>\n",
              "      <td>95</td>\n",
              "      <td>138</td>\n",
              "      <td>163</td>\n",
              "      <td>386</td>\n",
              "      <td>185</td>\n",
              "      <td>102</td>\n",
              "      <td>96</td>\n",
              "      <td>...</td>\n",
              "      <td>0.9</td>\n",
              "      <td>0.0</td>\n",
              "      <td>9.5</td>\n",
              "      <td>-2.4</td>\n",
              "      <td>0.0</td>\n",
              "      <td>0.0</td>\n",
              "      <td>0.3</td>\n",
              "      <td>3.4</td>\n",
              "      <td>12.3</td>\n",
              "      <td>10</td>\n",
              "    </tr>\n",
              "    <tr>\n",
              "      <th>3</th>\n",
              "      <td>55</td>\n",
              "      <td>0</td>\n",
              "      <td>175</td>\n",
              "      <td>94</td>\n",
              "      <td>100</td>\n",
              "      <td>202</td>\n",
              "      <td>380</td>\n",
              "      <td>179</td>\n",
              "      <td>143</td>\n",
              "      <td>28</td>\n",
              "      <td>...</td>\n",
              "      <td>0.1</td>\n",
              "      <td>0.0</td>\n",
              "      <td>12.2</td>\n",
              "      <td>-2.2</td>\n",
              "      <td>0.0</td>\n",
              "      <td>0.0</td>\n",
              "      <td>0.4</td>\n",
              "      <td>2.6</td>\n",
              "      <td>34.6</td>\n",
              "      <td>1</td>\n",
              "    </tr>\n",
              "    <tr>\n",
              "      <th>4</th>\n",
              "      <td>75</td>\n",
              "      <td>0</td>\n",
              "      <td>190</td>\n",
              "      <td>80</td>\n",
              "      <td>88</td>\n",
              "      <td>181</td>\n",
              "      <td>360</td>\n",
              "      <td>177</td>\n",
              "      <td>103</td>\n",
              "      <td>-16</td>\n",
              "      <td>...</td>\n",
              "      <td>-0.4</td>\n",
              "      <td>0.0</td>\n",
              "      <td>13.1</td>\n",
              "      <td>-3.6</td>\n",
              "      <td>0.0</td>\n",
              "      <td>0.0</td>\n",
              "      <td>-0.1</td>\n",
              "      <td>3.9</td>\n",
              "      <td>25.4</td>\n",
              "      <td>7</td>\n",
              "    </tr>\n",
              "  </tbody>\n",
              "</table>\n",
              "<p>5 rows × 278 columns</p>\n",
              "</div>\n",
              "      <button class=\"colab-df-convert\" onclick=\"convertToInteractive('df-47aa2dad-b450-44c7-af4a-d35befd949eb')\"\n",
              "              title=\"Convert this dataframe to an interactive table.\"\n",
              "              style=\"display:none;\">\n",
              "        \n",
              "  <svg xmlns=\"http://www.w3.org/2000/svg\" height=\"24px\"viewBox=\"0 0 24 24\"\n",
              "       width=\"24px\">\n",
              "    <path d=\"M0 0h24v24H0V0z\" fill=\"none\"/>\n",
              "    <path d=\"M18.56 5.44l.94 2.06.94-2.06 2.06-.94-2.06-.94-.94-2.06-.94 2.06-2.06.94zm-11 1L8.5 8.5l.94-2.06 2.06-.94-2.06-.94L8.5 2.5l-.94 2.06-2.06.94zm10 10l.94 2.06.94-2.06 2.06-.94-2.06-.94-.94-2.06-.94 2.06-2.06.94z\"/><path d=\"M17.41 7.96l-1.37-1.37c-.4-.4-.92-.59-1.43-.59-.52 0-1.04.2-1.43.59L10.3 9.45l-7.72 7.72c-.78.78-.78 2.05 0 2.83L4 21.41c.39.39.9.59 1.41.59.51 0 1.02-.2 1.41-.59l7.78-7.78 2.81-2.81c.8-.78.8-2.07 0-2.86zM5.41 20L4 18.59l7.72-7.72 1.47 1.35L5.41 20z\"/>\n",
              "  </svg>\n",
              "      </button>\n",
              "      \n",
              "  <style>\n",
              "    .colab-df-container {\n",
              "      display:flex;\n",
              "      flex-wrap:wrap;\n",
              "      gap: 12px;\n",
              "    }\n",
              "\n",
              "    .colab-df-convert {\n",
              "      background-color: #E8F0FE;\n",
              "      border: none;\n",
              "      border-radius: 50%;\n",
              "      cursor: pointer;\n",
              "      display: none;\n",
              "      fill: #1967D2;\n",
              "      height: 32px;\n",
              "      padding: 0 0 0 0;\n",
              "      width: 32px;\n",
              "    }\n",
              "\n",
              "    .colab-df-convert:hover {\n",
              "      background-color: #E2EBFA;\n",
              "      box-shadow: 0px 1px 2px rgba(60, 64, 67, 0.3), 0px 1px 3px 1px rgba(60, 64, 67, 0.15);\n",
              "      fill: #174EA6;\n",
              "    }\n",
              "\n",
              "    [theme=dark] .colab-df-convert {\n",
              "      background-color: #3B4455;\n",
              "      fill: #D2E3FC;\n",
              "    }\n",
              "\n",
              "    [theme=dark] .colab-df-convert:hover {\n",
              "      background-color: #434B5C;\n",
              "      box-shadow: 0px 1px 3px 1px rgba(0, 0, 0, 0.15);\n",
              "      filter: drop-shadow(0px 1px 2px rgba(0, 0, 0, 0.3));\n",
              "      fill: #FFFFFF;\n",
              "    }\n",
              "  </style>\n",
              "\n",
              "      <script>\n",
              "        const buttonEl =\n",
              "          document.querySelector('#df-47aa2dad-b450-44c7-af4a-d35befd949eb button.colab-df-convert');\n",
              "        buttonEl.style.display =\n",
              "          google.colab.kernel.accessAllowed ? 'block' : 'none';\n",
              "\n",
              "        async function convertToInteractive(key) {\n",
              "          const element = document.querySelector('#df-47aa2dad-b450-44c7-af4a-d35befd949eb');\n",
              "          const dataTable =\n",
              "            await google.colab.kernel.invokeFunction('convertToInteractive',\n",
              "                                                     [key], {});\n",
              "          if (!dataTable) return;\n",
              "\n",
              "          const docLinkHtml = 'Like what you see? Visit the ' +\n",
              "            '<a target=\"_blank\" href=https://colab.research.google.com/notebooks/data_table.ipynb>data table notebook</a>'\n",
              "            + ' to learn more about interactive tables.';\n",
              "          element.innerHTML = '';\n",
              "          dataTable['output_type'] = 'display_data';\n",
              "          await google.colab.output.renderOutput(dataTable, element);\n",
              "          const docLink = document.createElement('div');\n",
              "          docLink.innerHTML = docLinkHtml;\n",
              "          element.appendChild(docLink);\n",
              "        }\n",
              "      </script>\n",
              "    </div>\n",
              "  </div>\n",
              "  "
            ]
          },
          "metadata": {},
          "execution_count": 12
        }
      ]
    },
    {
      "cell_type": "code",
      "source": [
        "y = pd.DataFrame(df, columns = [279])\n",
        "y.head()"
      ],
      "metadata": {
        "colab": {
          "base_uri": "https://localhost:8080/",
          "height": 206
        },
        "id": "LjOsu6ykVx2e",
        "outputId": "dfde1153-129d-4c85-8722-a467cfab0dd6"
      },
      "execution_count": 13,
      "outputs": [
        {
          "output_type": "execute_result",
          "data": {
            "text/plain": [
              "   279\n",
              "0    8\n",
              "1    6\n",
              "2   10\n",
              "3    1\n",
              "4    7"
            ],
            "text/html": [
              "\n",
              "  <div id=\"df-2187e993-47c1-446b-b5f9-02a09bdb6328\">\n",
              "    <div class=\"colab-df-container\">\n",
              "      <div>\n",
              "<style scoped>\n",
              "    .dataframe tbody tr th:only-of-type {\n",
              "        vertical-align: middle;\n",
              "    }\n",
              "\n",
              "    .dataframe tbody tr th {\n",
              "        vertical-align: top;\n",
              "    }\n",
              "\n",
              "    .dataframe thead th {\n",
              "        text-align: right;\n",
              "    }\n",
              "</style>\n",
              "<table border=\"1\" class=\"dataframe\">\n",
              "  <thead>\n",
              "    <tr style=\"text-align: right;\">\n",
              "      <th></th>\n",
              "      <th>279</th>\n",
              "    </tr>\n",
              "  </thead>\n",
              "  <tbody>\n",
              "    <tr>\n",
              "      <th>0</th>\n",
              "      <td>8</td>\n",
              "    </tr>\n",
              "    <tr>\n",
              "      <th>1</th>\n",
              "      <td>6</td>\n",
              "    </tr>\n",
              "    <tr>\n",
              "      <th>2</th>\n",
              "      <td>10</td>\n",
              "    </tr>\n",
              "    <tr>\n",
              "      <th>3</th>\n",
              "      <td>1</td>\n",
              "    </tr>\n",
              "    <tr>\n",
              "      <th>4</th>\n",
              "      <td>7</td>\n",
              "    </tr>\n",
              "  </tbody>\n",
              "</table>\n",
              "</div>\n",
              "      <button class=\"colab-df-convert\" onclick=\"convertToInteractive('df-2187e993-47c1-446b-b5f9-02a09bdb6328')\"\n",
              "              title=\"Convert this dataframe to an interactive table.\"\n",
              "              style=\"display:none;\">\n",
              "        \n",
              "  <svg xmlns=\"http://www.w3.org/2000/svg\" height=\"24px\"viewBox=\"0 0 24 24\"\n",
              "       width=\"24px\">\n",
              "    <path d=\"M0 0h24v24H0V0z\" fill=\"none\"/>\n",
              "    <path d=\"M18.56 5.44l.94 2.06.94-2.06 2.06-.94-2.06-.94-.94-2.06-.94 2.06-2.06.94zm-11 1L8.5 8.5l.94-2.06 2.06-.94-2.06-.94L8.5 2.5l-.94 2.06-2.06.94zm10 10l.94 2.06.94-2.06 2.06-.94-2.06-.94-.94-2.06-.94 2.06-2.06.94z\"/><path d=\"M17.41 7.96l-1.37-1.37c-.4-.4-.92-.59-1.43-.59-.52 0-1.04.2-1.43.59L10.3 9.45l-7.72 7.72c-.78.78-.78 2.05 0 2.83L4 21.41c.39.39.9.59 1.41.59.51 0 1.02-.2 1.41-.59l7.78-7.78 2.81-2.81c.8-.78.8-2.07 0-2.86zM5.41 20L4 18.59l7.72-7.72 1.47 1.35L5.41 20z\"/>\n",
              "  </svg>\n",
              "      </button>\n",
              "      \n",
              "  <style>\n",
              "    .colab-df-container {\n",
              "      display:flex;\n",
              "      flex-wrap:wrap;\n",
              "      gap: 12px;\n",
              "    }\n",
              "\n",
              "    .colab-df-convert {\n",
              "      background-color: #E8F0FE;\n",
              "      border: none;\n",
              "      border-radius: 50%;\n",
              "      cursor: pointer;\n",
              "      display: none;\n",
              "      fill: #1967D2;\n",
              "      height: 32px;\n",
              "      padding: 0 0 0 0;\n",
              "      width: 32px;\n",
              "    }\n",
              "\n",
              "    .colab-df-convert:hover {\n",
              "      background-color: #E2EBFA;\n",
              "      box-shadow: 0px 1px 2px rgba(60, 64, 67, 0.3), 0px 1px 3px 1px rgba(60, 64, 67, 0.15);\n",
              "      fill: #174EA6;\n",
              "    }\n",
              "\n",
              "    [theme=dark] .colab-df-convert {\n",
              "      background-color: #3B4455;\n",
              "      fill: #D2E3FC;\n",
              "    }\n",
              "\n",
              "    [theme=dark] .colab-df-convert:hover {\n",
              "      background-color: #434B5C;\n",
              "      box-shadow: 0px 1px 3px 1px rgba(0, 0, 0, 0.15);\n",
              "      filter: drop-shadow(0px 1px 2px rgba(0, 0, 0, 0.3));\n",
              "      fill: #FFFFFF;\n",
              "    }\n",
              "  </style>\n",
              "\n",
              "      <script>\n",
              "        const buttonEl =\n",
              "          document.querySelector('#df-2187e993-47c1-446b-b5f9-02a09bdb6328 button.colab-df-convert');\n",
              "        buttonEl.style.display =\n",
              "          google.colab.kernel.accessAllowed ? 'block' : 'none';\n",
              "\n",
              "        async function convertToInteractive(key) {\n",
              "          const element = document.querySelector('#df-2187e993-47c1-446b-b5f9-02a09bdb6328');\n",
              "          const dataTable =\n",
              "            await google.colab.kernel.invokeFunction('convertToInteractive',\n",
              "                                                     [key], {});\n",
              "          if (!dataTable) return;\n",
              "\n",
              "          const docLinkHtml = 'Like what you see? Visit the ' +\n",
              "            '<a target=\"_blank\" href=https://colab.research.google.com/notebooks/data_table.ipynb>data table notebook</a>'\n",
              "            + ' to learn more about interactive tables.';\n",
              "          element.innerHTML = '';\n",
              "          dataTable['output_type'] = 'display_data';\n",
              "          await google.colab.output.renderOutput(dataTable, element);\n",
              "          const docLink = document.createElement('div');\n",
              "          docLink.innerHTML = docLinkHtml;\n",
              "          element.appendChild(docLink);\n",
              "        }\n",
              "      </script>\n",
              "    </div>\n",
              "  </div>\n",
              "  "
            ]
          },
          "metadata": {},
          "execution_count": 13
        }
      ]
    },
    {
      "cell_type": "markdown",
      "source": [
        "### Mencari attribute yang memiliki outlier value atau value yang bernilai tidak wajar"
      ],
      "metadata": {
        "id": "3HjRGo-EbKEd"
      }
    },
    {
      "cell_type": "code",
      "source": [
        "g = sns.PairGrid(x, vars=['Age', 'Sex', 'Height', 'Weight'],\n",
        "                 hue='Sex', palette='mako')\n",
        "g.map(plt.scatter, alpha=0.8)\n",
        "g.add_legend();"
      ],
      "metadata": {
        "colab": {
          "base_uri": "https://localhost:8080/",
          "height": 722
        },
        "id": "RtzzxyTWWH4e",
        "outputId": "e3d9bf55-35b8-4dcd-b582-98e9dc5c598f"
      },
      "execution_count": 14,
      "outputs": [
        {
          "output_type": "display_data",
          "data": {
            "text/plain": [
              "<Figure size 762.375x720 with 16 Axes>"
            ],
            "image/png": "[encoded data removed]"
          },
          "metadata": {
            "needs_background": "light"
          }
        }
      ]
    },
    {
      "cell_type": "markdown",
      "source": [
        "### Mengubah outlier value menjadi value yang normal"
      ],
      "metadata": {
        "id": "06jFyAKebXK8"
      }
    },
    {
      "cell_type": "code",
      "source": [
        "sorted(x['Height'], reverse=True)[:10]"
      ],
      "metadata": {
        "colab": {
          "base_uri": "https://localhost:8080/"
        },
        "id": "01PpDEyfWQhK",
        "outputId": "32543a89-e333-4749-bd51-afab76fee70e"
      },
      "execution_count": 15,
      "outputs": [
        {
          "output_type": "execute_result",
          "data": {
            "text/plain": [
              "[780, 608, 190, 190, 190, 188, 186, 186, 186, 185]"
            ]
          },
          "metadata": {},
          "execution_count": 15
        }
      ]
    },
    {
      "cell_type": "code",
      "source": [
        "x['Height'] = x['Height'].replace(608,108)\n",
        "x['Height'] = x['Height'].replace(780,180)"
      ],
      "metadata": {
        "id": "d5Res-6uWT5g"
      },
      "execution_count": 16,
      "outputs": []
    },
    {
      "cell_type": "markdown",
      "source": [
        "### Menampilkan hasil grafik dengan pengubahan outlier value"
      ],
      "metadata": {
        "id": "ApvKiSZXbeFe"
      }
    },
    {
      "cell_type": "code",
      "source": [
        "g = sns.PairGrid(x, vars=['Age', 'Sex', 'Height', 'Weight'],\n",
        "                 hue='Sex', palette='rocket')\n",
        "g.map(plt.scatter, alpha=0.8)\n",
        "g.add_legend();"
      ],
      "metadata": {
        "colab": {
          "base_uri": "https://localhost:8080/",
          "height": 722
        },
        "id": "6EaaMdGqWaXi",
        "outputId": "fb21628f-9c14-45fd-e5e0-ae8a5885caff"
      },
      "execution_count": 17,
      "outputs": [
        {
          "output_type": "display_data",
          "data": {
            "text/plain": [
              "<Figure size 762.375x720 with 16 Axes>"
            ],
            "image/png": "[encoded data removed]"
          },
          "metadata": {
            "needs_background": "light"
          }
        }
      ]
    },
    {
      "cell_type": "markdown",
      "source": [
        "### Membuat variabel x train, x test, y train, dan y test yang akan digunakan di algoritma neural network"
      ],
      "metadata": {
        "id": "OcrlfphVbolB"
      }
    },
    {
      "cell_type": "code",
      "source": [
        "x_train, x_test, y_train, y_test = ms.train_test_split(x, y, test_size=0.20, random_state = 10)\n",
        "print(\"Jumlah data training : \", len(x_train))\n",
        "print(\"Jumlah data testing  : \", len(x_test))"
      ],
      "metadata": {
        "colab": {
          "base_uri": "https://localhost:8080/"
        },
        "id": "MYFT71dIWeV3",
        "outputId": "ea29d447-e82d-40aa-d372-acbce4d3dc90"
      },
      "execution_count": 18,
      "outputs": [
        {
          "output_type": "stream",
          "name": "stdout",
          "text": [
            "Jumlah data training :  361\n",
            "Jumlah data testing  :  91\n"
          ]
        }
      ]
    },
    {
      "cell_type": "markdown",
      "source": [
        "### Melakukan proses scalling terhadap variabel x train dan x test"
      ],
      "metadata": {
        "id": "Vzi_KYlLb8nC"
      }
    },
    {
      "cell_type": "code",
      "source": [
        "scaler = MinMaxScaler()\n",
        "x_train = scaler.fit_transform(x_train)\n",
        "x_test = scaler.transform(x_test)"
      ],
      "metadata": {
        "id": "YxxAy0G5XH21"
      },
      "execution_count": 19,
      "outputs": []
    },
    {
      "cell_type": "markdown",
      "source": [
        "### Menggunakan perhitungan prediksi data menggunakan algoritma neural network MLP\n",
        "\n",
        "Fungsi Logistic Sigmoid\n",
        "\n",
        "![image.png](data:image/png;base64,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)"
      ],
      "metadata": {
        "id": "ElZ1rolCcYzh"
      }
    },
    {
      "cell_type": "code",
      "source": [
        "mlp = ann.MLPClassifier(activation='logistic', random_state=10, hidden_layer_sizes=(250,), max_iter=2500)\n",
        "mlp.fit(x_train, np.ravel(y_train))"
      ],
      "metadata": {
        "colab": {
          "base_uri": "https://localhost:8080/"
        },
        "id": "tOLJ6tVZXLJq",
        "outputId": "e3475a38-9cff-4072-db5f-98c9b9c8b3a6"
      },
      "execution_count": 20,
      "outputs": [
        {
          "output_type": "execute_result",
          "data": {
            "text/plain": [
              "MLPClassifier(activation='logistic', hidden_layer_sizes=(250,), max_iter=2500,\n",
              "              random_state=10)"
            ]
          },
          "metadata": {},
          "execution_count": 20
        }
      ]
    },
    {
      "cell_type": "code",
      "source": [
        "prediksi = mlp.predict(x_test)\n",
        "print(prediksi)"
      ],
      "metadata": {
        "colab": {
          "base_uri": "https://localhost:8080/"
        },
        "id": "FjYgPEK-ja26",
        "outputId": "5fb2deff-a705-4b7a-dd30-f8ac232bb8ac"
      },
      "execution_count": 21,
      "outputs": [
        {
          "output_type": "stream",
          "name": "stdout",
          "text": [
            "[ 3  1  2  1  1  1  2  1  4  2  1  1  1 10 10  1  1  3  1 10  6  4  1  1\n",
            "  1  1  1 16  1  1  1  1  1  1  1 10  1  6  2  1  6 10  2  1  1  6  1  1\n",
            "  4  3  1  1  1  1  1  1  1 10  1  1  1  1  1  1 16  1 10  1 10  2 10 10\n",
            "  2 10  1  1  1  1  1  1  2  1  1  1  1  1  2  9  1  1  1]\n"
          ]
        }
      ]
    },
    {
      "cell_type": "markdown",
      "source": [
        "### Menampilkan nilai akurasi model"
      ],
      "metadata": {
        "id": "L7NYICjpck7y"
      }
    },
    {
      "cell_type": "code",
      "source": [
        "count = 0\n",
        "for i, output in enumerate(np.ravel(y_test)):\n",
        "  if output == prediksi[i]:\n",
        "    count += 1\n",
        "print(\"Akurasi model: {}%\".format(round(count/len(y_test)*100, 2)))"
      ],
      "metadata": {
        "colab": {
          "base_uri": "https://localhost:8080/"
        },
        "id": "EPyekue2lVLX",
        "outputId": "2ad56902-d304-4cbc-c397-b204e34f9c61"
      },
      "execution_count": 22,
      "outputs": [
        {
          "output_type": "stream",
          "name": "stdout",
          "text": [
            "Akurasi model: 78.02%\n"
          ]
        }
      ]
    },
    {
      "cell_type": "code",
      "source": [
        "import sklearn.metrics as met\n",
        "print(met.classification_report(y_test, prediksi))"
      ],
      "metadata": {
        "colab": {
          "base_uri": "https://localhost:8080/"
        },
        "id": "pwIkOxUKXQx-",
        "outputId": "ca6e5f26-eac3-45b8-e6d6-526e4747db1e"
      },
      "execution_count": 23,
      "outputs": [
        {
          "output_type": "stream",
          "name": "stdout",
          "text": [
            "              precision    recall  f1-score   support\n",
            "\n",
            "           1       0.86      0.96      0.91        52\n",
            "           2       0.33      0.43      0.38         7\n",
            "           3       1.00      0.75      0.86         4\n",
            "           4       0.67      0.50      0.57         4\n",
            "           5       0.00      0.00      0.00         1\n",
            "           6       0.50      0.50      0.50         4\n",
            "           9       1.00      0.33      0.50         3\n",
            "          10       0.82      1.00      0.90         9\n",
            "          14       0.00      0.00      0.00         2\n",
            "          15       0.00      0.00      0.00         1\n",
            "          16       0.50      0.25      0.33         4\n",
            "\n",
            "    accuracy                           0.78        91\n",
            "   macro avg       0.52      0.43      0.45        91\n",
            "weighted avg       0.75      0.78      0.75        91\n",
            "\n"
          ]
        },
        {
          "output_type": "stream",
          "name": "stderr",
          "text": [
            "/usr/local/lib/python3.7/dist-packages/sklearn/metrics/_classification.py:1318: UndefinedMetricWarning: Precision and F-score are ill-defined and being set to 0.0 in labels with no predicted samples. Use `zero_division` parameter to control this behavior.\n",
            "  _warn_prf(average, modifier, msg_start, len(result))\n",
            "/usr/local/lib/python3.7/dist-packages/sklearn/metrics/_classification.py:1318: UndefinedMetricWarning: Precision and F-score are ill-defined and being set to 0.0 in labels with no predicted samples. Use `zero_division` parameter to control this behavior.\n",
            "  _warn_prf(average, modifier, msg_start, len(result))\n",
            "/usr/local/lib/python3.7/dist-packages/sklearn/metrics/_classification.py:1318: UndefinedMetricWarning: Precision and F-score are ill-defined and being set to 0.0 in labels with no predicted samples. Use `zero_division` parameter to control this behavior.\n",
            "  _warn_prf(average, modifier, msg_start, len(result))\n"
          ]
        }
      ]
    },
    {
      "cell_type": "markdown",
      "source": [
        "Fungsi Rectified Linear Unit (relu)\n",
        "\n",
        "![image.png](data:image/png;base64,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)"
      ],
      "metadata": {
        "id": "Vw9QvXwupEko"
      }
    },
    {
      "cell_type": "code",
      "source": [
        "mlp = ann.MLPClassifier(activation='relu', random_state=10, hidden_layer_sizes=(250,), max_iter=2500)\n",
        "mlp.fit(x_train, np.ravel(y_train))"
      ],
      "metadata": {
        "colab": {
          "base_uri": "https://localhost:8080/"
        },
        "id": "BTEO39BXnyQx",
        "outputId": "13d71509-48aa-4f7e-91f0-190c44fcabab"
      },
      "execution_count": 24,
      "outputs": [
        {
          "output_type": "execute_result",
          "data": {
            "text/plain": [
              "MLPClassifier(hidden_layer_sizes=(250,), max_iter=2500, random_state=10)"
            ]
          },
          "metadata": {},
          "execution_count": 24
        }
      ]
    },
    {
      "cell_type": "code",
      "source": [
        "prediksi = mlp.predict(x_test)\n",
        "print(prediksi)"
      ],
      "metadata": {
        "colab": {
          "base_uri": "https://localhost:8080/"
        },
        "id": "CZzbJWwpn3zR",
        "outputId": "4f0a764e-0513-4608-b6f6-e016ee276934"
      },
      "execution_count": 25,
      "outputs": [
        {
          "output_type": "stream",
          "name": "stdout",
          "text": [
            "[ 3  1  2  1  1  1  2  1  4  2  1  1  1 10 10  1  1  3  1 10  6  4  1  1\n",
            "  1  1  1 16  1  1  1  1  1  1  1 10  1  6  2  1  6 16  2  1  1  6  1  1\n",
            "  4  3  1  1  1  1  1  1  1 10  1  1  1  1  1  1 16  1 10  1 10  2 10 10\n",
            "  2 10  1  1  1  1  1  1  2  1  1  1  1  1  2  9  1  1  1]\n"
          ]
        }
      ]
    },
    {
      "cell_type": "markdown",
      "source": [
        "### Menampilkan nilai akurasi model"
      ],
      "metadata": {
        "id": "Vrm0XEw-o9kP"
      }
    },
    {
      "cell_type": "code",
      "source": [
        "count = 0\n",
        "for i, output in enumerate(np.ravel(y_test)):\n",
        "  if output == prediksi[i]:\n",
        "    count += 1\n",
        "print(\"Akurasi model: {}%\".format(round(count/len(y_test)*100, 2)))"
      ],
      "metadata": {
        "colab": {
          "base_uri": "https://localhost:8080/"
        },
        "id": "ZLeg3MXWn5rQ",
        "outputId": "d2e04cf9-39b7-41f7-af3f-073f4b0a6766"
      },
      "execution_count": 26,
      "outputs": [
        {
          "output_type": "stream",
          "name": "stdout",
          "text": [
            "Akurasi model: 79.12%\n"
          ]
        }
      ]
    },
    {
      "cell_type": "code",
      "source": [
        "import sklearn.metrics as met\n",
        "print(met.classification_report(y_test, prediksi))"
      ],
      "metadata": {
        "colab": {
          "base_uri": "https://localhost:8080/"
        },
        "id": "kuWPARqFn7rE",
        "outputId": "e209be9f-06be-45ad-8280-ff6f685ba2bf"
      },
      "execution_count": 27,
      "outputs": [
        {
          "output_type": "stream",
          "name": "stdout",
          "text": [
            "              precision    recall  f1-score   support\n",
            "\n",
            "           1       0.86      0.96      0.91        52\n",
            "           2       0.33      0.43      0.38         7\n",
            "           3       1.00      0.75      0.86         4\n",
            "           4       0.67      0.50      0.57         4\n",
            "           5       0.00      0.00      0.00         1\n",
            "           6       0.50      0.50      0.50         4\n",
            "           9       1.00      0.33      0.50         3\n",
            "          10       0.90      1.00      0.95         9\n",
            "          14       0.00      0.00      0.00         2\n",
            "          15       0.00      0.00      0.00         1\n",
            "          16       0.67      0.50      0.57         4\n",
            "\n",
            "    accuracy                           0.79        91\n",
            "   macro avg       0.54      0.45      0.48        91\n",
            "weighted avg       0.76      0.79      0.77        91\n",
            "\n"
          ]
        },
        {
          "output_type": "stream",
          "name": "stderr",
          "text": [
            "/usr/local/lib/python3.7/dist-packages/sklearn/metrics/_classification.py:1318: UndefinedMetricWarning: Precision and F-score are ill-defined and being set to 0.0 in labels with no predicted samples. Use `zero_division` parameter to control this behavior.\n",
            "  _warn_prf(average, modifier, msg_start, len(result))\n",
            "/usr/local/lib/python3.7/dist-packages/sklearn/metrics/_classification.py:1318: UndefinedMetricWarning: Precision and F-score are ill-defined and being set to 0.0 in labels with no predicted samples. Use `zero_division` parameter to control this behavior.\n",
            "  _warn_prf(average, modifier, msg_start, len(result))\n",
            "/usr/local/lib/python3.7/dist-packages/sklearn/metrics/_classification.py:1318: UndefinedMetricWarning: Precision and F-score are ill-defined and being set to 0.0 in labels with no predicted samples. Use `zero_division` parameter to control this behavior.\n",
            "  _warn_prf(average, modifier, msg_start, len(result))\n"
          ]
        }
      ]
    },
    {
      "cell_type": "markdown",
      "source": [
        "Fungsi Tangen Hyperbolik (tanh)\n",
        "\n",
        "![image.png](data:image/png;base64,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)"
      ],
      "metadata": {
        "id": "XOdfjaPYpL6a"
      }
    },
    {
      "cell_type": "code",
      "source": [
        "mlp = ann.MLPClassifier(activation='tanh', random_state=10, hidden_layer_sizes=(250,), max_iter=2500)\n",
        "mlp.fit(x_train, np.ravel(y_train))"
      ],
      "metadata": {
        "colab": {
          "base_uri": "https://localhost:8080/"
        },
        "id": "06RhaO60oSfw",
        "outputId": "162b4321-fdb8-44f0-e0da-16fc242f5199"
      },
      "execution_count": 28,
      "outputs": [
        {
          "output_type": "execute_result",
          "data": {
            "text/plain": [
              "MLPClassifier(activation='tanh', hidden_layer_sizes=(250,), max_iter=2500,\n",
              "              random_state=10)"
            ]
          },
          "metadata": {},
          "execution_count": 28
        }
      ]
    },
    {
      "cell_type": "code",
      "source": [
        "prediksi = mlp.predict(x_test)\n",
        "print(prediksi)"
      ],
      "metadata": {
        "colab": {
          "base_uri": "https://localhost:8080/"
        },
        "id": "KzqYTjvBoSvD",
        "outputId": "514055a7-4389-426d-f901-c6d5cd028646"
      },
      "execution_count": 29,
      "outputs": [
        {
          "output_type": "stream",
          "name": "stdout",
          "text": [
            "[ 3  1  2  1  1  1  2  1  4  2  1  1  1 10 10  1  1  3  1 10  6  4  1  1\n",
            "  1  4  1 16  1  1  1  1  1  1  1 10  1  6  2  1  6 16  2  1  1  6  1  1\n",
            "  4  3  1  1  1  1  1  4  1 10  1  1  1  1  1  1 16  1 10  1 10  2 10 10\n",
            "  2 10  1  1  1  1  1  1  2  1  1  1  1  1  2  9  1  1  1]\n"
          ]
        }
      ]
    },
    {
      "cell_type": "markdown",
      "source": [
        "### Menampilkan nilai akurasi model"
      ],
      "metadata": {
        "id": "k0-mIwrPo-kF"
      }
    },
    {
      "cell_type": "code",
      "source": [
        "count = 0\n",
        "for i, output in enumerate(np.ravel(y_test)):\n",
        "  if output == prediksi[i]:\n",
        "    count += 1\n",
        "print(\"Akurasi model: {}%\".format(round(count/len(y_test)*100, 2)))"
      ],
      "metadata": {
        "colab": {
          "base_uri": "https://localhost:8080/"
        },
        "id": "Eqaxg8kvoS0h",
        "outputId": "37a75619-4ebd-4d18-ec70-96809d517c5b"
      },
      "execution_count": 30,
      "outputs": [
        {
          "output_type": "stream",
          "name": "stdout",
          "text": [
            "Akurasi model: 81.32%\n"
          ]
        }
      ]
    },
    {
      "cell_type": "code",
      "source": [
        "import sklearn.metrics as met\n",
        "print(met.classification_report(y_test, prediksi))"
      ],
      "metadata": {
        "colab": {
          "base_uri": "https://localhost:8080/"
        },
        "id": "UiwSzQDQoS5l",
        "outputId": "55d84758-234f-404c-b174-a3c9f986a4f1"
      },
      "execution_count": 31,
      "outputs": [
        {
          "output_type": "stream",
          "name": "stdout",
          "text": [
            "              precision    recall  f1-score   support\n",
            "\n",
            "           1       0.89      0.96      0.93        52\n",
            "           2       0.33      0.43      0.38         7\n",
            "           3       1.00      0.75      0.86         4\n",
            "           4       0.80      1.00      0.89         4\n",
            "           5       0.00      0.00      0.00         1\n",
            "           6       0.50      0.50      0.50         4\n",
            "           9       1.00      0.33      0.50         3\n",
            "          10       0.90      1.00      0.95         9\n",
            "          14       0.00      0.00      0.00         2\n",
            "          15       0.00      0.00      0.00         1\n",
            "          16       0.67      0.50      0.57         4\n",
            "\n",
            "    accuracy                           0.81        91\n",
            "   macro avg       0.55      0.50      0.51        91\n",
            "weighted avg       0.79      0.81      0.79        91\n",
            "\n"
          ]
        },
        {
          "output_type": "stream",
          "name": "stderr",
          "text": [
            "/usr/local/lib/python3.7/dist-packages/sklearn/metrics/_classification.py:1318: UndefinedMetricWarning: Precision and F-score are ill-defined and being set to 0.0 in labels with no predicted samples. Use `zero_division` parameter to control this behavior.\n",
            "  _warn_prf(average, modifier, msg_start, len(result))\n",
            "/usr/local/lib/python3.7/dist-packages/sklearn/metrics/_classification.py:1318: UndefinedMetricWarning: Precision and F-score are ill-defined and being set to 0.0 in labels with no predicted samples. Use `zero_division` parameter to control this behavior.\n",
            "  _warn_prf(average, modifier, msg_start, len(result))\n",
            "/usr/local/lib/python3.7/dist-packages/sklearn/metrics/_classification.py:1318: UndefinedMetricWarning: Precision and F-score are ill-defined and being set to 0.0 in labels with no predicted samples. Use `zero_division` parameter to control this behavior.\n",
            "  _warn_prf(average, modifier, msg_start, len(result))\n"
          ]
        }
      ]
    },
    {
      "cell_type": "markdown",
      "source": [
        "### Menggunakan parameter yang berbeda\n",
        "\n",
        "Fungsi Tangen Hyperbolik (tanh)"
      ],
      "metadata": {
        "id": "jQ2LmZN-CKP6"
      }
    },
    {
      "cell_type": "code",
      "source": [
        "mlp = ann.MLPClassifier(activation='tanh', random_state=10, hidden_layer_sizes=(500,), max_iter=5000)\n",
        "mlp.fit(x_train, np.ravel(y_train))"
      ],
      "metadata": {
        "colab": {
          "base_uri": "https://localhost:8080/"
        },
        "id": "UVZB_YCQCJcQ",
        "outputId": "11b3ef48-8216-42a6-b839-a5e1b8b87fca"
      },
      "execution_count": 32,
      "outputs": [
        {
          "output_type": "execute_result",
          "data": {
            "text/plain": [
              "MLPClassifier(activation='tanh', hidden_layer_sizes=(500,), max_iter=5000,\n",
              "              random_state=10)"
            ]
          },
          "metadata": {},
          "execution_count": 32
        }
      ]
    },
    {
      "cell_type": "code",
      "source": [
        "prediksi = mlp.predict(x_test)\n",
        "print(prediksi)"
      ],
      "metadata": {
        "colab": {
          "base_uri": "https://localhost:8080/"
        },
        "id": "u7s39xreCkqu",
        "outputId": "f71b9088-fb88-4ac9-d237-76913f9a76b9"
      },
      "execution_count": 33,
      "outputs": [
        {
          "output_type": "stream",
          "name": "stdout",
          "text": [
            "[ 3  1  2  1  1  1  2  1  4  2  1  1  1 10 10  1  1  3  1 10  6  4  1  1\n",
            "  1  4  1 16  1  1  1  1  1  1  1 10  1  6  2  1  6 16  2  1  1  6  1  1\n",
            "  4  3  1  1  1  1  1  4  1 10  1  1  1  1  1  1 16  1 10  1 10  2 10 10\n",
            "  2 10  1  1  1  1  1  1  2  1  1  1  1  1  2  9  1  1  1]\n"
          ]
        }
      ]
    },
    {
      "cell_type": "markdown",
      "source": [
        "### Menampilkan nilai akurasi model"
      ],
      "metadata": {
        "id": "12ero0olCr7Q"
      }
    },
    {
      "cell_type": "code",
      "source": [
        "count = 0\n",
        "for i, output in enumerate(np.ravel(y_test)):\n",
        "  if output == prediksi[i]:\n",
        "    count += 1\n",
        "print(\"Akurasi model: {}%\".format(round(count/len(y_test)*100, 2)))"
      ],
      "metadata": {
        "colab": {
          "base_uri": "https://localhost:8080/"
        },
        "id": "i6gZoWx6ClMX",
        "outputId": "52cc965f-869f-44a0-bba6-765abd76ace4"
      },
      "execution_count": 34,
      "outputs": [
        {
          "output_type": "stream",
          "name": "stdout",
          "text": [
            "Akurasi model: 81.32%\n"
          ]
        }
      ]
    },
    {
      "cell_type": "code",
      "source": [
        "import sklearn.metrics as met\n",
        "print(met.classification_report(y_test, prediksi))"
      ],
      "metadata": {
        "colab": {
          "base_uri": "https://localhost:8080/"
        },
        "id": "ps6wZS5ECnU7",
        "outputId": "03abbe22-f580-46d5-e003-35262e9b42f2"
      },
      "execution_count": 35,
      "outputs": [
        {
          "output_type": "stream",
          "name": "stdout",
          "text": [
            "              precision    recall  f1-score   support\n",
            "\n",
            "           1       0.89      0.96      0.93        52\n",
            "           2       0.33      0.43      0.38         7\n",
            "           3       1.00      0.75      0.86         4\n",
            "           4       0.80      1.00      0.89         4\n",
            "           5       0.00      0.00      0.00         1\n",
            "           6       0.50      0.50      0.50         4\n",
            "           9       1.00      0.33      0.50         3\n",
            "          10       0.90      1.00      0.95         9\n",
            "          14       0.00      0.00      0.00         2\n",
            "          15       0.00      0.00      0.00         1\n",
            "          16       0.67      0.50      0.57         4\n",
            "\n",
            "    accuracy                           0.81        91\n",
            "   macro avg       0.55      0.50      0.51        91\n",
            "weighted avg       0.79      0.81      0.79        91\n",
            "\n"
          ]
        },
        {
          "output_type": "stream",
          "name": "stderr",
          "text": [
            "/usr/local/lib/python3.7/dist-packages/sklearn/metrics/_classification.py:1318: UndefinedMetricWarning: Precision and F-score are ill-defined and being set to 0.0 in labels with no predicted samples. Use `zero_division` parameter to control this behavior.\n",
            "  _warn_prf(average, modifier, msg_start, len(result))\n",
            "/usr/local/lib/python3.7/dist-packages/sklearn/metrics/_classification.py:1318: UndefinedMetricWarning: Precision and F-score are ill-defined and being set to 0.0 in labels with no predicted samples. Use `zero_division` parameter to control this behavior.\n",
            "  _warn_prf(average, modifier, msg_start, len(result))\n",
            "/usr/local/lib/python3.7/dist-packages/sklearn/metrics/_classification.py:1318: UndefinedMetricWarning: Precision and F-score are ill-defined and being set to 0.0 in labels with no predicted samples. Use `zero_division` parameter to control this behavior.\n",
            "  _warn_prf(average, modifier, msg_start, len(result))\n"
          ]
        }
      ]
    },
    {
      "cell_type": "code",
      "source": [
        "mlp = ann.MLPClassifier(activation='tanh', random_state=10, hidden_layer_sizes=(100,), max_iter=1000)\n",
        "mlp.fit(x_train, np.ravel(y_train))"
      ],
      "metadata": {
        "colab": {
          "base_uri": "https://localhost:8080/"
        },
        "outputId": "0bb51097-fc3f-4b9f-c052-24b34d2a6db7",
        "id": "Fif4KtU_DVew"
      },
      "execution_count": 36,
      "outputs": [
        {
          "output_type": "execute_result",
          "data": {
            "text/plain": [
              "MLPClassifier(activation='tanh', max_iter=1000, random_state=10)"
            ]
          },
          "metadata": {},
          "execution_count": 36
        }
      ]
    },
    {
      "cell_type": "code",
      "source": [
        "prediksi = mlp.predict(x_test)\n",
        "print(prediksi)"
      ],
      "metadata": {
        "colab": {
          "base_uri": "https://localhost:8080/"
        },
        "outputId": "d8f867e3-74da-499b-b72f-a78f33b8068e",
        "id": "k5wwEUdMDVex"
      },
      "execution_count": 37,
      "outputs": [
        {
          "output_type": "stream",
          "name": "stdout",
          "text": [
            "[ 3  1  2  1  1  1  2  1  4  2  1  1  1 10 10  1  1  3  1 10  6  4  1  1\n",
            "  1  1  1 16  1  1  1  1  1  1  1 10  1  6  2  1  6 16  2  1  1  6  1  1\n",
            "  4  3  1  1  1  1  1  4  1 10  1  1  1  1  1  1 16  1 10  1 10  2 10 10\n",
            "  2 10  1  1  1  1  1  1  2  1  1  1  1  1  9  9  1  1  1]\n"
          ]
        }
      ]
    },
    {
      "cell_type": "markdown",
      "source": [
        "### Menampilkan nilai akurasi model"
      ],
      "metadata": {
        "id": "qhT3dPaaDVey"
      }
    },
    {
      "cell_type": "code",
      "source": [
        "count = 0\n",
        "for i, output in enumerate(np.ravel(y_test)):\n",
        "  if output == prediksi[i]:\n",
        "    count += 1\n",
        "print(\"Akurasi model: {}%\".format(round(count/len(y_test)*100, 2)))"
      ],
      "metadata": {
        "colab": {
          "base_uri": "https://localhost:8080/"
        },
        "outputId": "3a50c36c-8feb-40b5-87f1-33717ec2ebd8",
        "id": "FKxEV7bNDVey"
      },
      "execution_count": 38,
      "outputs": [
        {
          "output_type": "stream",
          "name": "stdout",
          "text": [
            "Akurasi model: 81.32%\n"
          ]
        }
      ]
    },
    {
      "cell_type": "code",
      "source": [
        "import sklearn.metrics as met\n",
        "print(met.classification_report(y_test, prediksi))"
      ],
      "metadata": {
        "colab": {
          "base_uri": "https://localhost:8080/"
        },
        "outputId": "d9e1fc53-cc61-4b88-9acd-abbbdaece7ae",
        "id": "aNDvymsPDVey"
      },
      "execution_count": 39,
      "outputs": [
        {
          "output_type": "stream",
          "name": "stdout",
          "text": [
            "              precision    recall  f1-score   support\n",
            "\n",
            "           1       0.88      0.96      0.92        52\n",
            "           2       0.38      0.43      0.40         7\n",
            "           3       1.00      0.75      0.86         4\n",
            "           4       0.75      0.75      0.75         4\n",
            "           5       0.00      0.00      0.00         1\n",
            "           6       0.50      0.50      0.50         4\n",
            "           9       1.00      0.67      0.80         3\n",
            "          10       0.90      1.00      0.95         9\n",
            "          14       0.00      0.00      0.00         2\n",
            "          15       0.00      0.00      0.00         1\n",
            "          16       0.67      0.50      0.57         4\n",
            "\n",
            "    accuracy                           0.81        91\n",
            "   macro avg       0.55      0.51      0.52        91\n",
            "weighted avg       0.78      0.81      0.79        91\n",
            "\n"
          ]
        },
        {
          "output_type": "stream",
          "name": "stderr",
          "text": [
            "/usr/local/lib/python3.7/dist-packages/sklearn/metrics/_classification.py:1318: UndefinedMetricWarning: Precision and F-score are ill-defined and being set to 0.0 in labels with no predicted samples. Use `zero_division` parameter to control this behavior.\n",
            "  _warn_prf(average, modifier, msg_start, len(result))\n",
            "/usr/local/lib/python3.7/dist-packages/sklearn/metrics/_classification.py:1318: UndefinedMetricWarning: Precision and F-score are ill-defined and being set to 0.0 in labels with no predicted samples. Use `zero_division` parameter to control this behavior.\n",
            "  _warn_prf(average, modifier, msg_start, len(result))\n",
            "/usr/local/lib/python3.7/dist-packages/sklearn/metrics/_classification.py:1318: UndefinedMetricWarning: Precision and F-score are ill-defined and being set to 0.0 in labels with no predicted samples. Use `zero_division` parameter to control this behavior.\n",
            "  _warn_prf(average, modifier, msg_start, len(result))\n"
          ]
        }
      ]
    },
    {
      "cell_type": "code",
      "source": [
        "mlp = ann.MLPClassifier(activation='tanh', random_state=10, hidden_layer_sizes=(50,), max_iter=500)\n",
        "mlp.fit(x_train, np.ravel(y_train))"
      ],
      "metadata": {
        "colab": {
          "base_uri": "https://localhost:8080/"
        },
        "outputId": "735117cb-0655-45ba-b90a-8ce7c6a25d4b",
        "id": "bYdFtRW4DgvQ"
      },
      "execution_count": 40,
      "outputs": [
        {
          "output_type": "stream",
          "name": "stderr",
          "text": [
            "/usr/local/lib/python3.7/dist-packages/sklearn/neural_network/_multilayer_perceptron.py:696: ConvergenceWarning: Stochastic Optimizer: Maximum iterations (500) reached and the optimization hasn't converged yet.\n",
            "  ConvergenceWarning,\n"
          ]
        },
        {
          "output_type": "execute_result",
          "data": {
            "text/plain": [
              "MLPClassifier(activation='tanh', hidden_layer_sizes=(50,), max_iter=500,\n",
              "              random_state=10)"
            ]
          },
          "metadata": {},
          "execution_count": 40
        }
      ]
    },
    {
      "cell_type": "code",
      "source": [
        "prediksi = mlp.predict(x_test)\n",
        "print(prediksi)"
      ],
      "metadata": {
        "colab": {
          "base_uri": "https://localhost:8080/"
        },
        "outputId": "cd58cdc8-5b56-405c-a43e-9d8ab698a5a1",
        "id": "4vOwkPGyDgvS"
      },
      "execution_count": 41,
      "outputs": [
        {
          "output_type": "stream",
          "name": "stdout",
          "text": [
            "[ 3  1  2  1  1  1  2  1  4  2  1  1  1 10 10  1  1  3  1 10  6  4  1  1\n",
            "  1  1  1 16  1  1  1  1  1  1  1 10  1  6  2  1  6 10  2  1  1  1  1  1\n",
            "  4  3  1  1  1  1  1  1  1 10  1  1  1  1  1  1 16  1 10  1 10  2 10 10\n",
            "  2 10  1  1  1  1  1  1  2  1  1  1  1  1  2  9  1  1  1]\n"
          ]
        }
      ]
    },
    {
      "cell_type": "markdown",
      "source": [
        "### Menampilkan nilai akurasi model"
      ],
      "metadata": {
        "id": "AZvk3sb1DgvT"
      }
    },
    {
      "cell_type": "code",
      "source": [
        "count = 0\n",
        "for i, output in enumerate(np.ravel(y_test)):\n",
        "  if output == prediksi[i]:\n",
        "    count += 1\n",
        "print(\"Akurasi model: {}%\".format(round(count/len(y_test)*100, 2)))"
      ],
      "metadata": {
        "colab": {
          "base_uri": "https://localhost:8080/"
        },
        "outputId": "d41e5baa-a76e-4db2-f33a-38a2134ccc15",
        "id": "N2p-OXG3DgvT"
      },
      "execution_count": 42,
      "outputs": [
        {
          "output_type": "stream",
          "name": "stdout",
          "text": [
            "Akurasi model: 76.92%\n"
          ]
        }
      ]
    },
    {
      "cell_type": "code",
      "source": [
        "import sklearn.metrics as met\n",
        "print(met.classification_report(y_test, prediksi))"
      ],
      "metadata": {
        "colab": {
          "base_uri": "https://localhost:8080/"
        },
        "outputId": "6750ad48-46c6-4df5-c512-cc9a402fa88e",
        "id": "DZZLuhvgDgvU"
      },
      "execution_count": 43,
      "outputs": [
        {
          "output_type": "stream",
          "name": "stdout",
          "text": [
            "              precision    recall  f1-score   support\n",
            "\n",
            "           1       0.85      0.96      0.90        52\n",
            "           2       0.33      0.43      0.38         7\n",
            "           3       1.00      0.75      0.86         4\n",
            "           4       0.67      0.50      0.57         4\n",
            "           5       0.00      0.00      0.00         1\n",
            "           6       0.33      0.25      0.29         4\n",
            "           9       1.00      0.33      0.50         3\n",
            "          10       0.82      1.00      0.90         9\n",
            "          14       0.00      0.00      0.00         2\n",
            "          15       0.00      0.00      0.00         1\n",
            "          16       0.50      0.25      0.33         4\n",
            "\n",
            "    accuracy                           0.77        91\n",
            "   macro avg       0.50      0.41      0.43        91\n",
            "weighted avg       0.73      0.77      0.74        91\n",
            "\n"
          ]
        },
        {
          "output_type": "stream",
          "name": "stderr",
          "text": [
            "/usr/local/lib/python3.7/dist-packages/sklearn/metrics/_classification.py:1318: UndefinedMetricWarning: Precision and F-score are ill-defined and being set to 0.0 in labels with no predicted samples. Use `zero_division` parameter to control this behavior.\n",
            "  _warn_prf(average, modifier, msg_start, len(result))\n",
            "/usr/local/lib/python3.7/dist-packages/sklearn/metrics/_classification.py:1318: UndefinedMetricWarning: Precision and F-score are ill-defined and being set to 0.0 in labels with no predicted samples. Use `zero_division` parameter to control this behavior.\n",
            "  _warn_prf(average, modifier, msg_start, len(result))\n",
            "/usr/local/lib/python3.7/dist-packages/sklearn/metrics/_classification.py:1318: UndefinedMetricWarning: Precision and F-score are ill-defined and being set to 0.0 in labels with no predicted samples. Use `zero_division` parameter to control this behavior.\n",
            "  _warn_prf(average, modifier, msg_start, len(result))\n"
          ]
        }
      ]
    },
    {
      "cell_type": "code",
      "source": [
        "mlp = ann.MLPClassifier(activation='tanh', random_state=10, hidden_layer_sizes=(750,), max_iter=7500)\n",
        "mlp.fit(x_train, np.ravel(y_train))"
      ],
      "metadata": {
        "colab": {
          "base_uri": "https://localhost:8080/"
        },
        "outputId": "0f4c8d8a-6b70-4f77-93e8-4f2cc8fa383b",
        "id": "Uvl6QntYDqkk"
      },
      "execution_count": 44,
      "outputs": [
        {
          "output_type": "execute_result",
          "data": {
            "text/plain": [
              "MLPClassifier(activation='tanh', hidden_layer_sizes=(750,), max_iter=7500,\n",
              "              random_state=10)"
            ]
          },
          "metadata": {},
          "execution_count": 44
        }
      ]
    },
    {
      "cell_type": "code",
      "source": [
        "prediksi = mlp.predict(x_test)\n",
        "print(prediksi)"
      ],
      "metadata": {
        "colab": {
          "base_uri": "https://localhost:8080/"
        },
        "outputId": "3b547bcf-62df-4284-a964-27d8534bbe65",
        "id": "2XGZ-c-ADqk6"
      },
      "execution_count": 45,
      "outputs": [
        {
          "output_type": "stream",
          "name": "stdout",
          "text": [
            "[ 3  1  2  1  1  1  2  1  4  2  1  1  1 10 10  1  1  3  1 10  6  4  1  1\n",
            "  1  1  1 16  1  1  1  1  1  1  1 10  1  6  2  1  6 16  2  1  1  6  1  1\n",
            "  4  3  1  1  1  1  1  4  1 10  1  1  1  1  1  1 16  1 10  1 10  2 10 10\n",
            "  2 10  1  1  1  1  1  1  2  1  1  1  1  1  2  9  1  1  1]\n"
          ]
        }
      ]
    },
    {
      "cell_type": "markdown",
      "source": [
        "### Menampilkan nilai akurasi model"
      ],
      "metadata": {
        "id": "0LkUwjndDqk6"
      }
    },
    {
      "cell_type": "code",
      "source": [
        "count = 0\n",
        "for i, output in enumerate(np.ravel(y_test)):\n",
        "  if output == prediksi[i]:\n",
        "    count += 1\n",
        "print(\"Akurasi model: {}%\".format(round(count/len(y_test)*100, 2)))"
      ],
      "metadata": {
        "colab": {
          "base_uri": "https://localhost:8080/"
        },
        "outputId": "22b02363-789d-42de-d07c-ddb66aa3b208",
        "id": "ZxB8IB-LDqk7"
      },
      "execution_count": 46,
      "outputs": [
        {
          "output_type": "stream",
          "name": "stdout",
          "text": [
            "Akurasi model: 80.22%\n"
          ]
        }
      ]
    },
    {
      "cell_type": "code",
      "source": [
        "import sklearn.metrics as met\n",
        "print(met.classification_report(y_test, prediksi))"
      ],
      "metadata": {
        "colab": {
          "base_uri": "https://localhost:8080/"
        },
        "outputId": "acd084c6-6939-46b3-ba42-749b33852ea3",
        "id": "z-f8rMXhDqk8"
      },
      "execution_count": 47,
      "outputs": [
        {
          "output_type": "stream",
          "name": "stdout",
          "text": [
            "              precision    recall  f1-score   support\n",
            "\n",
            "           1       0.88      0.96      0.92        52\n",
            "           2       0.33      0.43      0.38         7\n",
            "           3       1.00      0.75      0.86         4\n",
            "           4       0.75      0.75      0.75         4\n",
            "           5       0.00      0.00      0.00         1\n",
            "           6       0.50      0.50      0.50         4\n",
            "           9       1.00      0.33      0.50         3\n",
            "          10       0.90      1.00      0.95         9\n",
            "          14       0.00      0.00      0.00         2\n",
            "          15       0.00      0.00      0.00         1\n",
            "          16       0.67      0.50      0.57         4\n",
            "\n",
            "    accuracy                           0.80        91\n",
            "   macro avg       0.55      0.47      0.49        91\n",
            "weighted avg       0.78      0.80      0.78        91\n",
            "\n"
          ]
        },
        {
          "output_type": "stream",
          "name": "stderr",
          "text": [
            "/usr/local/lib/python3.7/dist-packages/sklearn/metrics/_classification.py:1318: UndefinedMetricWarning: Precision and F-score are ill-defined and being set to 0.0 in labels with no predicted samples. Use `zero_division` parameter to control this behavior.\n",
            "  _warn_prf(average, modifier, msg_start, len(result))\n",
            "/usr/local/lib/python3.7/dist-packages/sklearn/metrics/_classification.py:1318: UndefinedMetricWarning: Precision and F-score are ill-defined and being set to 0.0 in labels with no predicted samples. Use `zero_division` parameter to control this behavior.\n",
            "  _warn_prf(average, modifier, msg_start, len(result))\n",
            "/usr/local/lib/python3.7/dist-packages/sklearn/metrics/_classification.py:1318: UndefinedMetricWarning: Precision and F-score are ill-defined and being set to 0.0 in labels with no predicted samples. Use `zero_division` parameter to control this behavior.\n",
            "  _warn_prf(average, modifier, msg_start, len(result))\n"
          ]
        }
      ]
    },
    {
      "cell_type": "markdown",
      "source": [
        "Menggunakan parameter yang berbeda\n",
        "\n",
        "Fungsi Rectified Linear Unit (relu)"
      ],
      "metadata": {
        "id": "2KrfY0IoJwVm"
      }
    },
    {
      "cell_type": "code",
      "source": [
        "mlp = ann.MLPClassifier(activation='relu', random_state=10, hidden_layer_sizes=(500,), max_iter=5000)\n",
        "mlp.fit(x_train, np.ravel(y_train))"
      ],
      "metadata": {
        "colab": {
          "base_uri": "https://localhost:8080/"
        },
        "outputId": "493c1c50-6ca0-499e-ad96-48a99a3dbc6e",
        "id": "OFKSc4JhJwVm"
      },
      "execution_count": 48,
      "outputs": [
        {
          "output_type": "execute_result",
          "data": {
            "text/plain": [
              "MLPClassifier(hidden_layer_sizes=(500,), max_iter=5000, random_state=10)"
            ]
          },
          "metadata": {},
          "execution_count": 48
        }
      ]
    },
    {
      "cell_type": "code",
      "source": [
        "prediksi = mlp.predict(x_test)\n",
        "print(prediksi)"
      ],
      "metadata": {
        "colab": {
          "base_uri": "https://localhost:8080/"
        },
        "outputId": "73cf5c09-ffd7-4eed-b33c-11b8ae1ed835",
        "id": "tYQu2mksJwVn"
      },
      "execution_count": 49,
      "outputs": [
        {
          "output_type": "stream",
          "name": "stdout",
          "text": [
            "[ 3  1  2  1  1  1  2  1  4  2  1  1  1 10 10  1  1  3  1 10  6  4  1  1\n",
            "  1  1  1 16  1  1  1  1  1  1  1 10  1  6  2  1  6 16  2  1  1  6  1  1\n",
            "  4  3  1  1  1  1  1  1  1 10  1  1  1  1  1  1 16  1 10  1 10  2 10 10\n",
            "  2 10  1  1  1  1  1  1  2  1  1  1  1  1  2  9  1  1  1]\n"
          ]
        }
      ]
    },
    {
      "cell_type": "markdown",
      "source": [
        "### Menampilkan nilai akurasi model"
      ],
      "metadata": {
        "id": "njX2AYWsJwVn"
      }
    },
    {
      "cell_type": "code",
      "source": [
        "count = 0\n",
        "for i, output in enumerate(np.ravel(y_test)):\n",
        "  if output == prediksi[i]:\n",
        "    count += 1\n",
        "print(\"Akurasi model: {}%\".format(round(count/len(y_test)*100, 2)))"
      ],
      "metadata": {
        "colab": {
          "base_uri": "https://localhost:8080/"
        },
        "outputId": "b0f600d6-42e8-4a19-a422-a5772750d8ec",
        "id": "v1Gdx153JwVn"
      },
      "execution_count": 50,
      "outputs": [
        {
          "output_type": "stream",
          "name": "stdout",
          "text": [
            "Akurasi model: 79.12%\n"
          ]
        }
      ]
    },
    {
      "cell_type": "code",
      "source": [
        "import sklearn.metrics as met\n",
        "print(met.classification_report(y_test, prediksi))"
      ],
      "metadata": {
        "colab": {
          "base_uri": "https://localhost:8080/"
        },
        "outputId": "d6ce9b0b-4e84-4ddb-a042-e576fce88bcd",
        "id": "YNsdNPwDJwVn"
      },
      "execution_count": 51,
      "outputs": [
        {
          "output_type": "stream",
          "name": "stdout",
          "text": [
            "              precision    recall  f1-score   support\n",
            "\n",
            "           1       0.86      0.96      0.91        52\n",
            "           2       0.33      0.43      0.38         7\n",
            "           3       1.00      0.75      0.86         4\n",
            "           4       0.67      0.50      0.57         4\n",
            "           5       0.00      0.00      0.00         1\n",
            "           6       0.50      0.50      0.50         4\n",
            "           9       1.00      0.33      0.50         3\n",
            "          10       0.90      1.00      0.95         9\n",
            "          14       0.00      0.00      0.00         2\n",
            "          15       0.00      0.00      0.00         1\n",
            "          16       0.67      0.50      0.57         4\n",
            "\n",
            "    accuracy                           0.79        91\n",
            "   macro avg       0.54      0.45      0.48        91\n",
            "weighted avg       0.76      0.79      0.77        91\n",
            "\n"
          ]
        },
        {
          "output_type": "stream",
          "name": "stderr",
          "text": [
            "/usr/local/lib/python3.7/dist-packages/sklearn/metrics/_classification.py:1318: UndefinedMetricWarning: Precision and F-score are ill-defined and being set to 0.0 in labels with no predicted samples. Use `zero_division` parameter to control this behavior.\n",
            "  _warn_prf(average, modifier, msg_start, len(result))\n",
            "/usr/local/lib/python3.7/dist-packages/sklearn/metrics/_classification.py:1318: UndefinedMetricWarning: Precision and F-score are ill-defined and being set to 0.0 in labels with no predicted samples. Use `zero_division` parameter to control this behavior.\n",
            "  _warn_prf(average, modifier, msg_start, len(result))\n",
            "/usr/local/lib/python3.7/dist-packages/sklearn/metrics/_classification.py:1318: UndefinedMetricWarning: Precision and F-score are ill-defined and being set to 0.0 in labels with no predicted samples. Use `zero_division` parameter to control this behavior.\n",
            "  _warn_prf(average, modifier, msg_start, len(result))\n"
          ]
        }
      ]
    },
    {
      "cell_type": "code",
      "source": [
        "mlp = ann.MLPClassifier(activation='relu', random_state=10, hidden_layer_sizes=(100,), max_iter=1000)\n",
        "mlp.fit(x_train, np.ravel(y_train))"
      ],
      "metadata": {
        "colab": {
          "base_uri": "https://localhost:8080/"
        },
        "outputId": "103ec045-c0b9-480d-c889-8c86356fb793",
        "id": "ze7B0FfIKWXt"
      },
      "execution_count": 52,
      "outputs": [
        {
          "output_type": "execute_result",
          "data": {
            "text/plain": [
              "MLPClassifier(max_iter=1000, random_state=10)"
            ]
          },
          "metadata": {},
          "execution_count": 52
        }
      ]
    },
    {
      "cell_type": "code",
      "source": [
        "prediksi = mlp.predict(x_test)\n",
        "print(prediksi)"
      ],
      "metadata": {
        "colab": {
          "base_uri": "https://localhost:8080/"
        },
        "outputId": "38423bf6-42fa-4c5b-e383-305d08cf853e",
        "id": "SSgknlCFKWYD"
      },
      "execution_count": 53,
      "outputs": [
        {
          "output_type": "stream",
          "name": "stdout",
          "text": [
            "[ 3  1  2  1  1  1  2  1  4  2  1  1  1 10 10  1  1  1  1 10  6  4  1  1\n",
            "  1  1  1 16  1  1  1  1  1  1  1 10  1  6  2  1  6 10  2  1  1  6  1  1\n",
            "  4  3  1  1  1  1  1  4  1 10  1  1  1  1  1  1 16  1 10  1 10  2 10 10\n",
            "  2 10  1  1  1  1  1  1  2  1  1  1  1  1  2  9  1  1  1]\n"
          ]
        }
      ]
    },
    {
      "cell_type": "markdown",
      "source": [
        "### Menampilkan nilai akurasi model"
      ],
      "metadata": {
        "id": "CYaAegsRKWYE"
      }
    },
    {
      "cell_type": "code",
      "source": [
        "count = 0\n",
        "for i, output in enumerate(np.ravel(y_test)):\n",
        "  if output == prediksi[i]:\n",
        "    count += 1\n",
        "print(\"Akurasi model: {}%\".format(round(count/len(y_test)*100, 2)))"
      ],
      "metadata": {
        "colab": {
          "base_uri": "https://localhost:8080/"
        },
        "outputId": "e970d8d4-1bd3-438e-e2d8-16e25467fbef",
        "id": "OIrPsvEaKWYE"
      },
      "execution_count": 54,
      "outputs": [
        {
          "output_type": "stream",
          "name": "stdout",
          "text": [
            "Akurasi model: 78.02%\n"
          ]
        }
      ]
    },
    {
      "cell_type": "code",
      "source": [
        "import sklearn.metrics as met\n",
        "print(met.classification_report(y_test, prediksi))"
      ],
      "metadata": {
        "colab": {
          "base_uri": "https://localhost:8080/"
        },
        "outputId": "e758583f-05b8-4acc-ae15-0880f1c21a99",
        "id": "hO6e5JrHKWYF"
      },
      "execution_count": 55,
      "outputs": [
        {
          "output_type": "stream",
          "name": "stdout",
          "text": [
            "              precision    recall  f1-score   support\n",
            "\n",
            "           1       0.86      0.96      0.91        52\n",
            "           2       0.33      0.43      0.38         7\n",
            "           3       1.00      0.50      0.67         4\n",
            "           4       0.75      0.75      0.75         4\n",
            "           5       0.00      0.00      0.00         1\n",
            "           6       0.50      0.50      0.50         4\n",
            "           9       1.00      0.33      0.50         3\n",
            "          10       0.82      1.00      0.90         9\n",
            "          14       0.00      0.00      0.00         2\n",
            "          15       0.00      0.00      0.00         1\n",
            "          16       0.50      0.25      0.33         4\n",
            "\n",
            "    accuracy                           0.78        91\n",
            "   macro avg       0.52      0.43      0.45        91\n",
            "weighted avg       0.75      0.78      0.75        91\n",
            "\n"
          ]
        },
        {
          "output_type": "stream",
          "name": "stderr",
          "text": [
            "/usr/local/lib/python3.7/dist-packages/sklearn/metrics/_classification.py:1318: UndefinedMetricWarning: Precision and F-score are ill-defined and being set to 0.0 in labels with no predicted samples. Use `zero_division` parameter to control this behavior.\n",
            "  _warn_prf(average, modifier, msg_start, len(result))\n",
            "/usr/local/lib/python3.7/dist-packages/sklearn/metrics/_classification.py:1318: UndefinedMetricWarning: Precision and F-score are ill-defined and being set to 0.0 in labels with no predicted samples. Use `zero_division` parameter to control this behavior.\n",
            "  _warn_prf(average, modifier, msg_start, len(result))\n",
            "/usr/local/lib/python3.7/dist-packages/sklearn/metrics/_classification.py:1318: UndefinedMetricWarning: Precision and F-score are ill-defined and being set to 0.0 in labels with no predicted samples. Use `zero_division` parameter to control this behavior.\n",
            "  _warn_prf(average, modifier, msg_start, len(result))\n"
          ]
        }
      ]
    },
    {
      "cell_type": "code",
      "source": [
        "mlp = ann.MLPClassifier(activation='relu', random_state=10, hidden_layer_sizes=(50,), max_iter=500)\n",
        "mlp.fit(x_train, np.ravel(y_train))"
      ],
      "metadata": {
        "colab": {
          "base_uri": "https://localhost:8080/"
        },
        "outputId": "1c8f3221-6bb6-4397-f51a-73f5ad9e2630",
        "id": "E6tvuwS7K6y2"
      },
      "execution_count": 56,
      "outputs": [
        {
          "output_type": "stream",
          "name": "stderr",
          "text": [
            "/usr/local/lib/python3.7/dist-packages/sklearn/neural_network/_multilayer_perceptron.py:696: ConvergenceWarning: Stochastic Optimizer: Maximum iterations (500) reached and the optimization hasn't converged yet.\n",
            "  ConvergenceWarning,\n"
          ]
        },
        {
          "output_type": "execute_result",
          "data": {
            "text/plain": [
              "MLPClassifier(hidden_layer_sizes=(50,), max_iter=500, random_state=10)"
            ]
          },
          "metadata": {},
          "execution_count": 56
        }
      ]
    },
    {
      "cell_type": "code",
      "source": [
        "prediksi = mlp.predict(x_test)\n",
        "print(prediksi)"
      ],
      "metadata": {
        "colab": {
          "base_uri": "https://localhost:8080/"
        },
        "outputId": "45cada27-936f-4ddf-ae14-bb0c0b2e5c5c",
        "id": "rPWSbuhfK6y4"
      },
      "execution_count": 57,
      "outputs": [
        {
          "output_type": "stream",
          "name": "stdout",
          "text": [
            "[ 3  1  2  1  1  1  2  1  4  2  1  1  1 10 10  1  1  3  1 10  6  4  1  1\n",
            "  1  1  1 16  1  1  1  1  1  1  1 10  1  6  2  1  6 10  2  1  1  1  1  1\n",
            "  4  3  1  1  1  1  1  1  1 10  1  1  1  1  1  1 16  1 10  1 10  2 16 10\n",
            "  2 10  1  1  1  1  1  1  2  1  1  1  1  1  2  9  1  1  1]\n"
          ]
        }
      ]
    },
    {
      "cell_type": "markdown",
      "source": [
        "### Menampilkan nilai akurasi model"
      ],
      "metadata": {
        "id": "cprGvHAyK6y4"
      }
    },
    {
      "cell_type": "code",
      "source": [
        "count = 0\n",
        "for i, output in enumerate(np.ravel(y_test)):\n",
        "  if output == prediksi[i]:\n",
        "    count += 1\n",
        "print(\"Akurasi model: {}%\".format(round(count/len(y_test)*100, 2)))"
      ],
      "metadata": {
        "colab": {
          "base_uri": "https://localhost:8080/"
        },
        "outputId": "dbb14e52-d204-4ea3-d2d6-80f8f812cdbf",
        "id": "DNv-HoukK6y5"
      },
      "execution_count": 58,
      "outputs": [
        {
          "output_type": "stream",
          "name": "stdout",
          "text": [
            "Akurasi model: 75.82%\n"
          ]
        }
      ]
    },
    {
      "cell_type": "code",
      "source": [
        "import sklearn.metrics as met\n",
        "print(met.classification_report(y_test, prediksi))"
      ],
      "metadata": {
        "colab": {
          "base_uri": "https://localhost:8080/"
        },
        "outputId": "69e56e23-c0df-4886-fd6a-5397e16662e5",
        "id": "1qq3mjgqK6y6"
      },
      "execution_count": 59,
      "outputs": [
        {
          "output_type": "stream",
          "name": "stdout",
          "text": [
            "              precision    recall  f1-score   support\n",
            "\n",
            "           1       0.85      0.96      0.90        52\n",
            "           2       0.33      0.43      0.38         7\n",
            "           3       1.00      0.75      0.86         4\n",
            "           4       0.67      0.50      0.57         4\n",
            "           5       0.00      0.00      0.00         1\n",
            "           6       0.33      0.25      0.29         4\n",
            "           9       1.00      0.33      0.50         3\n",
            "          10       0.80      0.89      0.84         9\n",
            "          14       0.00      0.00      0.00         2\n",
            "          15       0.00      0.00      0.00         1\n",
            "          16       0.33      0.25      0.29         4\n",
            "\n",
            "    accuracy                           0.76        91\n",
            "   macro avg       0.48      0.40      0.42        91\n",
            "weighted avg       0.72      0.76      0.73        91\n",
            "\n"
          ]
        },
        {
          "output_type": "stream",
          "name": "stderr",
          "text": [
            "/usr/local/lib/python3.7/dist-packages/sklearn/metrics/_classification.py:1318: UndefinedMetricWarning: Precision and F-score are ill-defined and being set to 0.0 in labels with no predicted samples. Use `zero_division` parameter to control this behavior.\n",
            "  _warn_prf(average, modifier, msg_start, len(result))\n",
            "/usr/local/lib/python3.7/dist-packages/sklearn/metrics/_classification.py:1318: UndefinedMetricWarning: Precision and F-score are ill-defined and being set to 0.0 in labels with no predicted samples. Use `zero_division` parameter to control this behavior.\n",
            "  _warn_prf(average, modifier, msg_start, len(result))\n",
            "/usr/local/lib/python3.7/dist-packages/sklearn/metrics/_classification.py:1318: UndefinedMetricWarning: Precision and F-score are ill-defined and being set to 0.0 in labels with no predicted samples. Use `zero_division` parameter to control this behavior.\n",
            "  _warn_prf(average, modifier, msg_start, len(result))\n"
          ]
        }
      ]
    },
    {
      "cell_type": "code",
      "source": [
        "mlp = ann.MLPClassifier(activation='relu', random_state=10, hidden_layer_sizes=(750,), max_iter=7500)\n",
        "mlp.fit(x_train, np.ravel(y_train))"
      ],
      "metadata": {
        "colab": {
          "base_uri": "https://localhost:8080/"
        },
        "outputId": "2dcb3001-3220-42c7-adc5-4ec8790c03a5",
        "id": "49flfajQLods"
      },
      "execution_count": 60,
      "outputs": [
        {
          "output_type": "execute_result",
          "data": {
            "text/plain": [
              "MLPClassifier(hidden_layer_sizes=(750,), max_iter=7500, random_state=10)"
            ]
          },
          "metadata": {},
          "execution_count": 60
        }
      ]
    },
    {
      "cell_type": "code",
      "source": [
        "prediksi = mlp.predict(x_test)\n",
        "print(prediksi)"
      ],
      "metadata": {
        "colab": {
          "base_uri": "https://localhost:8080/"
        },
        "outputId": "551d9add-4c92-4e2c-e29c-d54d89ffc374",
        "id": "ZtChB5ebLodu"
      },
      "execution_count": 61,
      "outputs": [
        {
          "output_type": "stream",
          "name": "stdout",
          "text": [
            "[ 3  1  2  1  1  1  2  1  4  2  1  1  1 10 10  1  1  1  1 10  6  4  1  1\n",
            "  1  1  1 16  1  1  1  1  1  1  1 10  1  6  2  1  6 16  2  1  1  6  1  1\n",
            "  4  3  1  1  1  1  1  4  1 10  1  1  1  1  1  1 16  1 10  1 10  2 10 10\n",
            "  2 10  1  1  1  1  1  1  2  1  1  1  1  1  2  9  1  1  1]\n"
          ]
        }
      ]
    },
    {
      "cell_type": "markdown",
      "source": [
        "### Menampilkan nilai akurasi model"
      ],
      "metadata": {
        "id": "_RO9881-Lodv"
      }
    },
    {
      "cell_type": "code",
      "source": [
        "count = 0\n",
        "for i, output in enumerate(np.ravel(y_test)):\n",
        "  if output == prediksi[i]:\n",
        "    count += 1\n",
        "print(\"Akurasi model: {}%\".format(round(count/len(y_test)*100, 2)))"
      ],
      "metadata": {
        "colab": {
          "base_uri": "https://localhost:8080/"
        },
        "outputId": "a4b476a2-baad-47cc-da08-a7dae424c377",
        "id": "XOC20IGYLodw"
      },
      "execution_count": 62,
      "outputs": [
        {
          "output_type": "stream",
          "name": "stdout",
          "text": [
            "Akurasi model: 79.12%\n"
          ]
        }
      ]
    },
    {
      "cell_type": "code",
      "source": [
        "import sklearn.metrics as met\n",
        "print(met.classification_report(y_test, prediksi))"
      ],
      "metadata": {
        "colab": {
          "base_uri": "https://localhost:8080/"
        },
        "outputId": "72a5f9b6-a730-47cb-f9e4-6adc1850bc02",
        "id": "Ed8QQZ1VLodw"
      },
      "execution_count": 63,
      "outputs": [
        {
          "output_type": "stream",
          "name": "stdout",
          "text": [
            "              precision    recall  f1-score   support\n",
            "\n",
            "           1       0.86      0.96      0.91        52\n",
            "           2       0.33      0.43      0.38         7\n",
            "           3       1.00      0.50      0.67         4\n",
            "           4       0.75      0.75      0.75         4\n",
            "           5       0.00      0.00      0.00         1\n",
            "           6       0.50      0.50      0.50         4\n",
            "           9       1.00      0.33      0.50         3\n",
            "          10       0.90      1.00      0.95         9\n",
            "          14       0.00      0.00      0.00         2\n",
            "          15       0.00      0.00      0.00         1\n",
            "          16       0.67      0.50      0.57         4\n",
            "\n",
            "    accuracy                           0.79        91\n",
            "   macro avg       0.55      0.45      0.47        91\n",
            "weighted avg       0.77      0.79      0.77        91\n",
            "\n"
          ]
        },
        {
          "output_type": "stream",
          "name": "stderr",
          "text": [
            "/usr/local/lib/python3.7/dist-packages/sklearn/metrics/_classification.py:1318: UndefinedMetricWarning: Precision and F-score are ill-defined and being set to 0.0 in labels with no predicted samples. Use `zero_division` parameter to control this behavior.\n",
            "  _warn_prf(average, modifier, msg_start, len(result))\n",
            "/usr/local/lib/python3.7/dist-packages/sklearn/metrics/_classification.py:1318: UndefinedMetricWarning: Precision and F-score are ill-defined and being set to 0.0 in labels with no predicted samples. Use `zero_division` parameter to control this behavior.\n",
            "  _warn_prf(average, modifier, msg_start, len(result))\n",
            "/usr/local/lib/python3.7/dist-packages/sklearn/metrics/_classification.py:1318: UndefinedMetricWarning: Precision and F-score are ill-defined and being set to 0.0 in labels with no predicted samples. Use `zero_division` parameter to control this behavior.\n",
            "  _warn_prf(average, modifier, msg_start, len(result))\n"
          ]
        }
      ]
    },
    {
      "cell_type": "markdown",
      "source": [
        "Menggunakan parameter yang berbeda\n",
        "\n",
        "Fungsi Logistic Sigmoid"
      ],
      "metadata": {
        "id": "Yjl2HQ56L6tQ"
      }
    },
    {
      "cell_type": "code",
      "source": [
        "mlp = ann.MLPClassifier(activation='logistic', random_state=10, hidden_layer_sizes=(500,), max_iter=5000)\n",
        "mlp.fit(x_train, np.ravel(y_train))"
      ],
      "metadata": {
        "colab": {
          "base_uri": "https://localhost:8080/"
        },
        "outputId": "402af67a-cd78-46dc-c51d-9b974a7a941b",
        "id": "hPZowQzvL6tR"
      },
      "execution_count": 64,
      "outputs": [
        {
          "output_type": "execute_result",
          "data": {
            "text/plain": [
              "MLPClassifier(activation='logistic', hidden_layer_sizes=(500,), max_iter=5000,\n",
              "              random_state=10)"
            ]
          },
          "metadata": {},
          "execution_count": 64
        }
      ]
    },
    {
      "cell_type": "code",
      "source": [
        "prediksi = mlp.predict(x_test)\n",
        "print(prediksi)"
      ],
      "metadata": {
        "colab": {
          "base_uri": "https://localhost:8080/"
        },
        "outputId": "2ea578e5-8ba6-4c35-b9d0-8d8eb02246cc",
        "id": "m6ZJc1W0L6tS"
      },
      "execution_count": 65,
      "outputs": [
        {
          "output_type": "stream",
          "name": "stdout",
          "text": [
            "[ 3  1  2  1  1  1  2  1  4  2  1  1  1 10 10  1  1  3  1 10  6  4  1  1\n",
            "  1  1  1 16  1  1  1  1  1  1  1 10  1  6  2  1  6 10  2  1  1  6  1  1\n",
            "  4  3  1  1  1  1  1  4  1 10  1  1  1  1  1  1 16  1 16  1 10  2 10 10\n",
            "  2 10  1  1  1  1  1  1  2  1  1  1  1  1  2  9  1  1  1]\n"
          ]
        }
      ]
    },
    {
      "cell_type": "markdown",
      "source": [
        "### Menampilkan nilai akurasi model"
      ],
      "metadata": {
        "id": "N47t87KLL6tT"
      }
    },
    {
      "cell_type": "code",
      "source": [
        "count = 0\n",
        "for i, output in enumerate(np.ravel(y_test)):\n",
        "  if output == prediksi[i]:\n",
        "    count += 1\n",
        "print(\"Akurasi model: {}%\".format(round(count/len(y_test)*100, 2)))"
      ],
      "metadata": {
        "colab": {
          "base_uri": "https://localhost:8080/"
        },
        "outputId": "8695021d-a0ac-4bd5-8c97-282d48bcd3f2",
        "id": "DYY6aRorL6tT"
      },
      "execution_count": 66,
      "outputs": [
        {
          "output_type": "stream",
          "name": "stdout",
          "text": [
            "Akurasi model: 79.12%\n"
          ]
        }
      ]
    },
    {
      "cell_type": "code",
      "source": [
        "import sklearn.metrics as met\n",
        "print(met.classification_report(y_test, prediksi))"
      ],
      "metadata": {
        "colab": {
          "base_uri": "https://localhost:8080/"
        },
        "outputId": "01a399a0-a604-425e-9a0f-19acf9a2005f",
        "id": "GM64FEe5L6tU"
      },
      "execution_count": 67,
      "outputs": [
        {
          "output_type": "stream",
          "name": "stdout",
          "text": [
            "              precision    recall  f1-score   support\n",
            "\n",
            "           1       0.88      0.96      0.92        52\n",
            "           2       0.33      0.43      0.38         7\n",
            "           3       1.00      0.75      0.86         4\n",
            "           4       0.75      0.75      0.75         4\n",
            "           5       0.00      0.00      0.00         1\n",
            "           6       0.50      0.50      0.50         4\n",
            "           9       1.00      0.33      0.50         3\n",
            "          10       0.90      1.00      0.95         9\n",
            "          14       0.00      0.00      0.00         2\n",
            "          15       0.00      0.00      0.00         1\n",
            "          16       0.33      0.25      0.29         4\n",
            "\n",
            "    accuracy                           0.79        91\n",
            "   macro avg       0.52      0.45      0.47        91\n",
            "weighted avg       0.76      0.79      0.77        91\n",
            "\n"
          ]
        },
        {
          "output_type": "stream",
          "name": "stderr",
          "text": [
            "/usr/local/lib/python3.7/dist-packages/sklearn/metrics/_classification.py:1318: UndefinedMetricWarning: Precision and F-score are ill-defined and being set to 0.0 in labels with no predicted samples. Use `zero_division` parameter to control this behavior.\n",
            "  _warn_prf(average, modifier, msg_start, len(result))\n",
            "/usr/local/lib/python3.7/dist-packages/sklearn/metrics/_classification.py:1318: UndefinedMetricWarning: Precision and F-score are ill-defined and being set to 0.0 in labels with no predicted samples. Use `zero_division` parameter to control this behavior.\n",
            "  _warn_prf(average, modifier, msg_start, len(result))\n",
            "/usr/local/lib/python3.7/dist-packages/sklearn/metrics/_classification.py:1318: UndefinedMetricWarning: Precision and F-score are ill-defined and being set to 0.0 in labels with no predicted samples. Use `zero_division` parameter to control this behavior.\n",
            "  _warn_prf(average, modifier, msg_start, len(result))\n"
          ]
        }
      ]
    },
    {
      "cell_type": "code",
      "source": [
        "mlp = ann.MLPClassifier(activation='logistic', random_state=10, hidden_layer_sizes=(100,), max_iter=1000)\n",
        "mlp.fit(x_train, np.ravel(y_train))"
      ],
      "metadata": {
        "colab": {
          "base_uri": "https://localhost:8080/"
        },
        "outputId": "20919f1f-8060-4d15-a016-d4e269c87db3",
        "id": "Fl9BcLknMR8M"
      },
      "execution_count": 68,
      "outputs": [
        {
          "output_type": "stream",
          "name": "stderr",
          "text": [
            "/usr/local/lib/python3.7/dist-packages/sklearn/neural_network/_multilayer_perceptron.py:696: ConvergenceWarning: Stochastic Optimizer: Maximum iterations (1000) reached and the optimization hasn't converged yet.\n",
            "  ConvergenceWarning,\n"
          ]
        },
        {
          "output_type": "execute_result",
          "data": {
            "text/plain": [
              "MLPClassifier(activation='logistic', max_iter=1000, random_state=10)"
            ]
          },
          "metadata": {},
          "execution_count": 68
        }
      ]
    },
    {
      "cell_type": "code",
      "source": [
        "prediksi = mlp.predict(x_test)\n",
        "print(prediksi)"
      ],
      "metadata": {
        "colab": {
          "base_uri": "https://localhost:8080/"
        },
        "outputId": "26c08b43-d97b-4a9d-d998-6b8ff78dddaa",
        "id": "J3LpWNSrMR8S"
      },
      "execution_count": 69,
      "outputs": [
        {
          "output_type": "stream",
          "name": "stdout",
          "text": [
            "[ 3  1  2  1  1  1  2  1  4  2  1  1  1 10 10  1  1  3  1 10  6  4  1  1\n",
            "  1  1  1 16  1  1  1  1  1  1  1 10  1  6  2  1  6 16  2  1  1  6  1  1\n",
            "  4  3  1  1  1  1  1  1  1 10  1  1  1  1  1  1 16  1 10  1 10  2 10 10\n",
            "  2 10  1  1  1  1  1  1  2  1  1  1  1  1  9  9  1  1  1]\n"
          ]
        }
      ]
    },
    {
      "cell_type": "markdown",
      "source": [
        "### Menampilkan nilai akurasi model"
      ],
      "metadata": {
        "id": "ZMTqzP9PMR8S"
      }
    },
    {
      "cell_type": "code",
      "source": [
        "count = 0\n",
        "for i, output in enumerate(np.ravel(y_test)):\n",
        "  if output == prediksi[i]:\n",
        "    count += 1\n",
        "print(\"Akurasi model: {}%\".format(round(count/len(y_test)*100, 2)))"
      ],
      "metadata": {
        "colab": {
          "base_uri": "https://localhost:8080/"
        },
        "outputId": "9e3e3e77-7d01-4e57-be76-40a50c894c23",
        "id": "HU6F1cXUMR8S"
      },
      "execution_count": 70,
      "outputs": [
        {
          "output_type": "stream",
          "name": "stdout",
          "text": [
            "Akurasi model: 80.22%\n"
          ]
        }
      ]
    },
    {
      "cell_type": "code",
      "source": [
        "import sklearn.metrics as met\n",
        "print(met.classification_report(y_test, prediksi))"
      ],
      "metadata": {
        "colab": {
          "base_uri": "https://localhost:8080/"
        },
        "outputId": "ca2f9e0c-c9ce-405e-c876-f3d139dc76bd",
        "id": "Tjl2Fwm3MR8S"
      },
      "execution_count": 71,
      "outputs": [
        {
          "output_type": "stream",
          "name": "stdout",
          "text": [
            "              precision    recall  f1-score   support\n",
            "\n",
            "           1       0.86      0.96      0.91        52\n",
            "           2       0.38      0.43      0.40         7\n",
            "           3       1.00      0.75      0.86         4\n",
            "           4       0.67      0.50      0.57         4\n",
            "           5       0.00      0.00      0.00         1\n",
            "           6       0.50      0.50      0.50         4\n",
            "           9       1.00      0.67      0.80         3\n",
            "          10       0.90      1.00      0.95         9\n",
            "          14       0.00      0.00      0.00         2\n",
            "          15       0.00      0.00      0.00         1\n",
            "          16       0.67      0.50      0.57         4\n",
            "\n",
            "    accuracy                           0.80        91\n",
            "   macro avg       0.54      0.48      0.51        91\n",
            "weighted avg       0.77      0.80      0.78        91\n",
            "\n"
          ]
        },
        {
          "output_type": "stream",
          "name": "stderr",
          "text": [
            "/usr/local/lib/python3.7/dist-packages/sklearn/metrics/_classification.py:1318: UndefinedMetricWarning: Precision and F-score are ill-defined and being set to 0.0 in labels with no predicted samples. Use `zero_division` parameter to control this behavior.\n",
            "  _warn_prf(average, modifier, msg_start, len(result))\n",
            "/usr/local/lib/python3.7/dist-packages/sklearn/metrics/_classification.py:1318: UndefinedMetricWarning: Precision and F-score are ill-defined and being set to 0.0 in labels with no predicted samples. Use `zero_division` parameter to control this behavior.\n",
            "  _warn_prf(average, modifier, msg_start, len(result))\n",
            "/usr/local/lib/python3.7/dist-packages/sklearn/metrics/_classification.py:1318: UndefinedMetricWarning: Precision and F-score are ill-defined and being set to 0.0 in labels with no predicted samples. Use `zero_division` parameter to control this behavior.\n",
            "  _warn_prf(average, modifier, msg_start, len(result))\n"
          ]
        }
      ]
    },
    {
      "cell_type": "code",
      "source": [
        "mlp = ann.MLPClassifier(activation='logistic', random_state=10, hidden_layer_sizes=(50,), max_iter=500)\n",
        "mlp.fit(x_train, np.ravel(y_train))"
      ],
      "metadata": {
        "colab": {
          "base_uri": "https://localhost:8080/"
        },
        "outputId": "c09b6f1f-562d-425b-e4df-ca2b824dcda0",
        "id": "dG6hMxGgMmo6"
      },
      "execution_count": 72,
      "outputs": [
        {
          "output_type": "stream",
          "name": "stderr",
          "text": [
            "/usr/local/lib/python3.7/dist-packages/sklearn/neural_network/_multilayer_perceptron.py:696: ConvergenceWarning: Stochastic Optimizer: Maximum iterations (500) reached and the optimization hasn't converged yet.\n",
            "  ConvergenceWarning,\n"
          ]
        },
        {
          "output_type": "execute_result",
          "data": {
            "text/plain": [
              "MLPClassifier(activation='logistic', hidden_layer_sizes=(50,), max_iter=500,\n",
              "              random_state=10)"
            ]
          },
          "metadata": {},
          "execution_count": 72
        }
      ]
    },
    {
      "cell_type": "code",
      "source": [
        "prediksi = mlp.predict(x_test)\n",
        "print(prediksi)"
      ],
      "metadata": {
        "colab": {
          "base_uri": "https://localhost:8080/"
        },
        "outputId": "9abb63bc-af4f-44dd-fafb-08c188449099",
        "id": "EIuJ2nl8Mmo6"
      },
      "execution_count": 73,
      "outputs": [
        {
          "output_type": "stream",
          "name": "stdout",
          "text": [
            "[ 3  1  2  1  1  1  2  1  4  2  1  1  1 10 10  1  1  3  1 10  6  4  1  1\n",
            "  1  1  1 16  1  1  1  1  1  1  1 10  1  6  2  1  1 10  2  1  1  1  1  1\n",
            "  1  3  1  1  1  1  1  1  1 10  1  1  1  1  1  1 16  1 10  1 10  2 10 10\n",
            "  2 10  1  1  1  1  1  1  2  1  1  1  1  1  9  9  1  1  1]\n"
          ]
        }
      ]
    },
    {
      "cell_type": "markdown",
      "source": [
        "### Menampilkan nilai akurasi model"
      ],
      "metadata": {
        "id": "9TKl0XjDMmo6"
      }
    },
    {
      "cell_type": "code",
      "source": [
        "count = 0\n",
        "for i, output in enumerate(np.ravel(y_test)):\n",
        "  if output == prediksi[i]:\n",
        "    count += 1\n",
        "print(\"Akurasi model: {}%\".format(round(count/len(y_test)*100, 2)))"
      ],
      "metadata": {
        "colab": {
          "base_uri": "https://localhost:8080/"
        },
        "outputId": "838d3aa8-ae6c-426b-a263-7d37f8523e8c",
        "id": "n-rj4fTbMmo6"
      },
      "execution_count": 74,
      "outputs": [
        {
          "output_type": "stream",
          "name": "stdout",
          "text": [
            "Akurasi model: 75.82%\n"
          ]
        }
      ]
    },
    {
      "cell_type": "code",
      "source": [
        "import sklearn.metrics as met\n",
        "print(met.classification_report(y_test, prediksi))"
      ],
      "metadata": {
        "colab": {
          "base_uri": "https://localhost:8080/"
        },
        "outputId": "88aa8267-8b3f-4f42-dca7-4809ca1b876e",
        "id": "pNuuZDcbMmo6"
      },
      "execution_count": 75,
      "outputs": [
        {
          "output_type": "stream",
          "name": "stdout",
          "text": [
            "              precision    recall  f1-score   support\n",
            "\n",
            "           1       0.82      0.96      0.88        52\n",
            "           2       0.38      0.43      0.40         7\n",
            "           3       1.00      0.75      0.86         4\n",
            "           4       0.50      0.25      0.33         4\n",
            "           5       0.00      0.00      0.00         1\n",
            "           6       0.00      0.00      0.00         4\n",
            "           9       1.00      0.67      0.80         3\n",
            "          10       0.82      1.00      0.90         9\n",
            "          14       0.00      0.00      0.00         2\n",
            "          15       0.00      0.00      0.00         1\n",
            "          16       0.50      0.25      0.33         4\n",
            "\n",
            "    accuracy                           0.76        91\n",
            "   macro avg       0.46      0.39      0.41        91\n",
            "weighted avg       0.70      0.76      0.72        91\n",
            "\n"
          ]
        },
        {
          "output_type": "stream",
          "name": "stderr",
          "text": [
            "/usr/local/lib/python3.7/dist-packages/sklearn/metrics/_classification.py:1318: UndefinedMetricWarning: Precision and F-score are ill-defined and being set to 0.0 in labels with no predicted samples. Use `zero_division` parameter to control this behavior.\n",
            "  _warn_prf(average, modifier, msg_start, len(result))\n",
            "/usr/local/lib/python3.7/dist-packages/sklearn/metrics/_classification.py:1318: UndefinedMetricWarning: Precision and F-score are ill-defined and being set to 0.0 in labels with no predicted samples. Use `zero_division` parameter to control this behavior.\n",
            "  _warn_prf(average, modifier, msg_start, len(result))\n",
            "/usr/local/lib/python3.7/dist-packages/sklearn/metrics/_classification.py:1318: UndefinedMetricWarning: Precision and F-score are ill-defined and being set to 0.0 in labels with no predicted samples. Use `zero_division` parameter to control this behavior.\n",
            "  _warn_prf(average, modifier, msg_start, len(result))\n"
          ]
        }
      ]
    },
    {
      "cell_type": "code",
      "source": [
        "mlp = ann.MLPClassifier(activation='logistic', random_state=10, hidden_layer_sizes=(750,), max_iter=7500)\n",
        "mlp.fit(x_train, np.ravel(y_train))"
      ],
      "metadata": {
        "colab": {
          "base_uri": "https://localhost:8080/"
        },
        "outputId": "73b1854f-d092-454f-ae0d-100302da89f6",
        "id": "2-eqGFYxMzyH"
      },
      "execution_count": 76,
      "outputs": [
        {
          "output_type": "execute_result",
          "data": {
            "text/plain": [
              "MLPClassifier(activation='logistic', hidden_layer_sizes=(750,), max_iter=7500,\n",
              "              random_state=10)"
            ]
          },
          "metadata": {},
          "execution_count": 76
        }
      ]
    },
    {
      "cell_type": "code",
      "source": [
        "prediksi = mlp.predict(x_test)\n",
        "print(prediksi)"
      ],
      "metadata": {
        "colab": {
          "base_uri": "https://localhost:8080/"
        },
        "outputId": "05047d5e-8199-4470-8702-c68acadd5d18",
        "id": "sNl4pTihMzyI"
      },
      "execution_count": 77,
      "outputs": [
        {
          "output_type": "stream",
          "name": "stdout",
          "text": [
            "[ 3  1  2  1  1  1  2  1  4  2  1  1  1 10 10  1  1  3  1 10  6  4  1  1\n",
            "  1  1  1 16  1  1  1  1  1  1  1 10  1  6  2  1  6 10  2  1  1  6  1  1\n",
            "  4  3  1  1  1  1  1  4  1 10  1  1  1  1  1  1 16  1 10  1 10  2 10 10\n",
            "  2 10  1  1  1  1  1  1  2  1  1  1  1  1  2  9  1  1  1]\n"
          ]
        }
      ]
    },
    {
      "cell_type": "markdown",
      "source": [
        "### Menampilkan nilai akurasi model"
      ],
      "metadata": {
        "id": "a2dfcWIzMzyJ"
      }
    },
    {
      "cell_type": "code",
      "source": [
        "count = 0\n",
        "for i, output in enumerate(np.ravel(y_test)):\n",
        "  if output == prediksi[i]:\n",
        "    count += 1\n",
        "print(\"Akurasi model: {}%\".format(round(count/len(y_test)*100, 2)))"
      ],
      "metadata": {
        "colab": {
          "base_uri": "https://localhost:8080/"
        },
        "outputId": "3babaa01-1ed3-45a5-cc8c-41e3d60b9fb0",
        "id": "CyTnzweCMzyJ"
      },
      "execution_count": 78,
      "outputs": [
        {
          "output_type": "stream",
          "name": "stdout",
          "text": [
            "Akurasi model: 79.12%\n"
          ]
        }
      ]
    },
    {
      "cell_type": "code",
      "source": [
        "import sklearn.metrics as met\n",
        "print(met.classification_report(y_test, prediksi))"
      ],
      "metadata": {
        "colab": {
          "base_uri": "https://localhost:8080/"
        },
        "outputId": "efcba570-080a-49cf-9a6d-3bc133fb1133",
        "id": "546ot12qMzyK"
      },
      "execution_count": 79,
      "outputs": [
        {
          "output_type": "stream",
          "name": "stdout",
          "text": [
            "              precision    recall  f1-score   support\n",
            "\n",
            "           1       0.88      0.96      0.92        52\n",
            "           2       0.33      0.43      0.38         7\n",
            "           3       1.00      0.75      0.86         4\n",
            "           4       0.75      0.75      0.75         4\n",
            "           5       0.00      0.00      0.00         1\n",
            "           6       0.50      0.50      0.50         4\n",
            "           9       1.00      0.33      0.50         3\n",
            "          10       0.82      1.00      0.90         9\n",
            "          14       0.00      0.00      0.00         2\n",
            "          15       0.00      0.00      0.00         1\n",
            "          16       0.50      0.25      0.33         4\n",
            "\n",
            "    accuracy                           0.79        91\n",
            "   macro avg       0.53      0.45      0.47        91\n",
            "weighted avg       0.76      0.79      0.77        91\n",
            "\n"
          ]
        },
        {
          "output_type": "stream",
          "name": "stderr",
          "text": [
            "/usr/local/lib/python3.7/dist-packages/sklearn/metrics/_classification.py:1318: UndefinedMetricWarning: Precision and F-score are ill-defined and being set to 0.0 in labels with no predicted samples. Use `zero_division` parameter to control this behavior.\n",
            "  _warn_prf(average, modifier, msg_start, len(result))\n",
            "/usr/local/lib/python3.7/dist-packages/sklearn/metrics/_classification.py:1318: UndefinedMetricWarning: Precision and F-score are ill-defined and being set to 0.0 in labels with no predicted samples. Use `zero_division` parameter to control this behavior.\n",
            "  _warn_prf(average, modifier, msg_start, len(result))\n",
            "/usr/local/lib/python3.7/dist-packages/sklearn/metrics/_classification.py:1318: UndefinedMetricWarning: Precision and F-score are ill-defined and being set to 0.0 in labels with no predicted samples. Use `zero_division` parameter to control this behavior.\n",
            "  _warn_prf(average, modifier, msg_start, len(result))\n"
          ]
        }
      ]
    },
    {
      "cell_type": "markdown",
      "source": [
        "### Kesimpulan\n",
        "\n",
        "Kesimpulan yang dapat saya berikan dari penggunaan algoritma MLP berikut dengan menggunakan 3 fungsi yang berbeda adalah terdapat perbedaan tingkat akurasi berdasarkan penggunaan 3 fungsi tersebut yang dimana fungsi tangen hyperbolik dapat menghasilkan akurasi yang besar jika memperbesar jumlah test size dan jumlah random state dan memperkecil jumlah max iter dan jumlah hidden layer size dengan ukuran yang secukupnya, parameter tersebut menjadi kunci utama pengolahan dataset dalam algoritma MLP. Hasil akurasi terbukti bahwa fungsi tangen hyperbolik memiliki akurasi tertinggi, dan semua akurasi memiliki tingkatan diatas 75% yang dimana dapat disimpulkan sebagai algoritma yang cukup mampu dalam mengolah dataset tersebut."
      ],
      "metadata": {
        "id": "grzcuWCu9Nio"
      }
    },
    {
      "cell_type": "markdown",
      "source": [
        "Class Distribution:\n",
        "       Database:  Arrhythmia\n",
        "       \n",
        "       Class code :   Class   :                             Number of instances:\n",
        "       01             Normal\t\t\t\t                        245\n",
        "       02             Ischemic changes (Coronary Artery Disease)     44\n",
        "       03             Old Anterior Myocardial Infarction             15\n",
        "       04             Old Inferior Myocardial Infarction             15\n",
        "       05             Sinus tachycardy\t\t\t                   13\n",
        "       06             Sinus bradycardy\t\t\t                   25\n",
        "       07             Ventricular Premature Contraction (PVC)         3\n",
        "       08             Supraventricular Premature Contraction\t      2\n",
        "       09             Left bundle branch block \t\t               9\t\n",
        "       10             Right bundle branch block\t\t              50\n",
        "       11             1. degree AtrioVentricular block\t            0\t\n",
        "       12             2. degree AV block\t\t                      0\n",
        "       13             3. degree AV block\t\t                      0\n",
        "       14             Left ventricule hypertrophy \t                4\n",
        "       15             Atrial Fibrillation or Flutter\t              5\n",
        "       16             Others\t\t\t\t                         22\n",
        "\n"
      ],
      "metadata": {
        "id": "SyEes3c_ouNw"
      }
    }
  ]
}